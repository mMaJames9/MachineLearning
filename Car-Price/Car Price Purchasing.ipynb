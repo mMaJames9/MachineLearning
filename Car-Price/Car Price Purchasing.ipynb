{
 "cells": [
  {
   "cell_type": "markdown",
   "id": "3042f49b",
   "metadata": {},
   "source": [
    "# Car Price Prediction"
   ]
  },
  {
   "cell_type": "markdown",
   "id": "3f0f25a1",
   "metadata": {},
   "source": [
    "### Importer les librairies nécessaires"
   ]
  },
  {
   "cell_type": "code",
   "execution_count": 94,
   "id": "b7115656",
   "metadata": {},
   "outputs": [],
   "source": [
    "import pandas as pd\n",
    "import numpy as np\n",
    "import matplotlib.pyplot as plt\n",
    "from sklearn.preprocessing import MinMaxScaler\n",
    "from sklearn.model_selection import train_test_split\n",
    "import tensorflow.keras\n",
    "from keras.models import Sequential\n",
    "from keras.layers import Dense"
   ]
  },
  {
   "cell_type": "markdown",
   "id": "bb552ebd",
   "metadata": {},
   "source": [
    "### Importer le dataset"
   ]
  },
  {
   "cell_type": "code",
   "execution_count": 95,
   "id": "990911b7",
   "metadata": {
    "scrolled": true
   },
   "outputs": [
    {
     "data": {
      "text/html": [
       "<div>\n",
       "<style scoped>\n",
       "    .dataframe tbody tr th:only-of-type {\n",
       "        vertical-align: middle;\n",
       "    }\n",
       "\n",
       "    .dataframe tbody tr th {\n",
       "        vertical-align: top;\n",
       "    }\n",
       "\n",
       "    .dataframe thead th {\n",
       "        text-align: right;\n",
       "    }\n",
       "</style>\n",
       "<table border=\"1\" class=\"dataframe\">\n",
       "  <thead>\n",
       "    <tr style=\"text-align: right;\">\n",
       "      <th></th>\n",
       "      <th>Customer Name</th>\n",
       "      <th>Customer e-mail</th>\n",
       "      <th>Country</th>\n",
       "      <th>Gender</th>\n",
       "      <th>Age</th>\n",
       "      <th>Annual Salary</th>\n",
       "      <th>Credit Card Debt</th>\n",
       "      <th>Net Worth</th>\n",
       "      <th>Car Purchase Amount</th>\n",
       "    </tr>\n",
       "  </thead>\n",
       "  <tbody>\n",
       "    <tr>\n",
       "      <th>0</th>\n",
       "      <td>Martina Avila</td>\n",
       "      <td>cubilia.Curae.Phasellus@quisaccumsanconvallis.edu</td>\n",
       "      <td>Bulgaria</td>\n",
       "      <td>0</td>\n",
       "      <td>41.851720</td>\n",
       "      <td>62812.09301</td>\n",
       "      <td>11609.380910</td>\n",
       "      <td>238961.2505</td>\n",
       "      <td>35321.45877</td>\n",
       "    </tr>\n",
       "    <tr>\n",
       "      <th>1</th>\n",
       "      <td>Harlan Barnes</td>\n",
       "      <td>eu.dolor@diam.co.uk</td>\n",
       "      <td>Belize</td>\n",
       "      <td>0</td>\n",
       "      <td>40.870623</td>\n",
       "      <td>66646.89292</td>\n",
       "      <td>9572.957136</td>\n",
       "      <td>530973.9078</td>\n",
       "      <td>45115.52566</td>\n",
       "    </tr>\n",
       "    <tr>\n",
       "      <th>2</th>\n",
       "      <td>Naomi Rodriquez</td>\n",
       "      <td>vulputate.mauris.sagittis@ametconsectetueradip...</td>\n",
       "      <td>Algeria</td>\n",
       "      <td>1</td>\n",
       "      <td>43.152897</td>\n",
       "      <td>53798.55112</td>\n",
       "      <td>11160.355060</td>\n",
       "      <td>638467.1773</td>\n",
       "      <td>42925.70921</td>\n",
       "    </tr>\n",
       "    <tr>\n",
       "      <th>3</th>\n",
       "      <td>Jade Cunningham</td>\n",
       "      <td>malesuada@dignissim.com</td>\n",
       "      <td>Cook Islands</td>\n",
       "      <td>1</td>\n",
       "      <td>58.271369</td>\n",
       "      <td>79370.03798</td>\n",
       "      <td>14426.164850</td>\n",
       "      <td>548599.0524</td>\n",
       "      <td>67422.36313</td>\n",
       "    </tr>\n",
       "    <tr>\n",
       "      <th>4</th>\n",
       "      <td>Cedric Leach</td>\n",
       "      <td>felis.ullamcorper.viverra@egetmollislectus.net</td>\n",
       "      <td>Brazil</td>\n",
       "      <td>1</td>\n",
       "      <td>57.313749</td>\n",
       "      <td>59729.15130</td>\n",
       "      <td>5358.712177</td>\n",
       "      <td>560304.0671</td>\n",
       "      <td>55915.46248</td>\n",
       "    </tr>\n",
       "  </tbody>\n",
       "</table>\n",
       "</div>"
      ],
      "text/plain": [
       "     Customer Name                                    Customer e-mail  \\\n",
       "0    Martina Avila  cubilia.Curae.Phasellus@quisaccumsanconvallis.edu   \n",
       "1    Harlan Barnes                                eu.dolor@diam.co.uk   \n",
       "2  Naomi Rodriquez  vulputate.mauris.sagittis@ametconsectetueradip...   \n",
       "3  Jade Cunningham                            malesuada@dignissim.com   \n",
       "4     Cedric Leach     felis.ullamcorper.viverra@egetmollislectus.net   \n",
       "\n",
       "        Country  Gender        Age  Annual Salary  Credit Card Debt  \\\n",
       "0      Bulgaria       0  41.851720    62812.09301      11609.380910   \n",
       "1        Belize       0  40.870623    66646.89292       9572.957136   \n",
       "2       Algeria       1  43.152897    53798.55112      11160.355060   \n",
       "3  Cook Islands       1  58.271369    79370.03798      14426.164850   \n",
       "4        Brazil       1  57.313749    59729.15130       5358.712177   \n",
       "\n",
       "     Net Worth  Car Purchase Amount  \n",
       "0  238961.2505          35321.45877  \n",
       "1  530973.9078          45115.52566  \n",
       "2  638467.1773          42925.70921  \n",
       "3  548599.0524          67422.36313  \n",
       "4  560304.0671          55915.46248  "
      ]
     },
     "execution_count": 95,
     "metadata": {},
     "output_type": "execute_result"
    }
   ],
   "source": [
    "file = \"Car_Purchasing_Data.csv\"\n",
    "\n",
    "car_df = pd.read_csv(file, encoding='ISO-8859-1')\n",
    "car_df.head()"
   ]
  },
  {
   "cell_type": "markdown",
   "id": "699bc613",
   "metadata": {},
   "source": [
    "### Nettoyer le dataset"
   ]
  },
  {
   "cell_type": "code",
   "execution_count": 96,
   "id": "1cdbeff2",
   "metadata": {
    "scrolled": false
   },
   "outputs": [
    {
     "data": {
      "text/plain": [
       "Index(['Customer Name', 'Customer e-mail', 'Country', 'Gender', 'Age',\n",
       "       'Annual Salary', 'Credit Card Debt', 'Net Worth',\n",
       "       'Car Purchase Amount'],\n",
       "      dtype='object')"
      ]
     },
     "execution_count": 96,
     "metadata": {},
     "output_type": "execute_result"
    }
   ],
   "source": [
    "# Afficher les colonnes du dataset\n",
    "car_df.columns"
   ]
  },
  {
   "cell_type": "code",
   "execution_count": 97,
   "id": "dbc32344",
   "metadata": {
    "scrolled": true
   },
   "outputs": [
    {
     "data": {
      "text/html": [
       "<div>\n",
       "<style scoped>\n",
       "    .dataframe tbody tr th:only-of-type {\n",
       "        vertical-align: middle;\n",
       "    }\n",
       "\n",
       "    .dataframe tbody tr th {\n",
       "        vertical-align: top;\n",
       "    }\n",
       "\n",
       "    .dataframe thead th {\n",
       "        text-align: right;\n",
       "    }\n",
       "</style>\n",
       "<table border=\"1\" class=\"dataframe\">\n",
       "  <thead>\n",
       "    <tr style=\"text-align: right;\">\n",
       "      <th></th>\n",
       "      <th>Gender</th>\n",
       "      <th>Age</th>\n",
       "      <th>Annual Salary</th>\n",
       "      <th>Credit Card Debt</th>\n",
       "      <th>Net Worth</th>\n",
       "      <th>Car Purchase Amount</th>\n",
       "    </tr>\n",
       "  </thead>\n",
       "  <tbody>\n",
       "    <tr>\n",
       "      <th>0</th>\n",
       "      <td>0</td>\n",
       "      <td>41.851720</td>\n",
       "      <td>62812.09301</td>\n",
       "      <td>11609.380910</td>\n",
       "      <td>238961.2505</td>\n",
       "      <td>35321.45877</td>\n",
       "    </tr>\n",
       "    <tr>\n",
       "      <th>1</th>\n",
       "      <td>0</td>\n",
       "      <td>40.870623</td>\n",
       "      <td>66646.89292</td>\n",
       "      <td>9572.957136</td>\n",
       "      <td>530973.9078</td>\n",
       "      <td>45115.52566</td>\n",
       "    </tr>\n",
       "    <tr>\n",
       "      <th>2</th>\n",
       "      <td>1</td>\n",
       "      <td>43.152897</td>\n",
       "      <td>53798.55112</td>\n",
       "      <td>11160.355060</td>\n",
       "      <td>638467.1773</td>\n",
       "      <td>42925.70921</td>\n",
       "    </tr>\n",
       "    <tr>\n",
       "      <th>3</th>\n",
       "      <td>1</td>\n",
       "      <td>58.271369</td>\n",
       "      <td>79370.03798</td>\n",
       "      <td>14426.164850</td>\n",
       "      <td>548599.0524</td>\n",
       "      <td>67422.36313</td>\n",
       "    </tr>\n",
       "    <tr>\n",
       "      <th>4</th>\n",
       "      <td>1</td>\n",
       "      <td>57.313749</td>\n",
       "      <td>59729.15130</td>\n",
       "      <td>5358.712177</td>\n",
       "      <td>560304.0671</td>\n",
       "      <td>55915.46248</td>\n",
       "    </tr>\n",
       "  </tbody>\n",
       "</table>\n",
       "</div>"
      ],
      "text/plain": [
       "   Gender        Age  Annual Salary  Credit Card Debt    Net Worth  \\\n",
       "0       0  41.851720    62812.09301      11609.380910  238961.2505   \n",
       "1       0  40.870623    66646.89292       9572.957136  530973.9078   \n",
       "2       1  43.152897    53798.55112      11160.355060  638467.1773   \n",
       "3       1  58.271369    79370.03798      14426.164850  548599.0524   \n",
       "4       1  57.313749    59729.15130       5358.712177  560304.0671   \n",
       "\n",
       "   Car Purchase Amount  \n",
       "0          35321.45877  \n",
       "1          45115.52566  \n",
       "2          42925.70921  \n",
       "3          67422.36313  \n",
       "4          55915.46248  "
      ]
     },
     "execution_count": 97,
     "metadata": {},
     "output_type": "execute_result"
    }
   ],
   "source": [
    "# Supprimer les colonnes inutiles\n",
    "car = car_df.drop(['Customer Name','Customer e-mail', 'Country'], axis = 1)\n",
    "car.head()"
   ]
  },
  {
   "cell_type": "code",
   "execution_count": 98,
   "id": "8d586d76",
   "metadata": {},
   "outputs": [
    {
     "data": {
      "text/html": [
       "<div>\n",
       "<style scoped>\n",
       "    .dataframe tbody tr th:only-of-type {\n",
       "        vertical-align: middle;\n",
       "    }\n",
       "\n",
       "    .dataframe tbody tr th {\n",
       "        vertical-align: top;\n",
       "    }\n",
       "\n",
       "    .dataframe thead th {\n",
       "        text-align: right;\n",
       "    }\n",
       "</style>\n",
       "<table border=\"1\" class=\"dataframe\">\n",
       "  <thead>\n",
       "    <tr style=\"text-align: right;\">\n",
       "      <th></th>\n",
       "      <th>Gender</th>\n",
       "      <th>Age</th>\n",
       "      <th>Annual Salary</th>\n",
       "      <th>Credit Card Debt</th>\n",
       "      <th>Net Worth</th>\n",
       "      <th>Car Purchase Amount</th>\n",
       "    </tr>\n",
       "  </thead>\n",
       "  <tbody>\n",
       "    <tr>\n",
       "      <th>count</th>\n",
       "      <td>500.000000</td>\n",
       "      <td>500.000000</td>\n",
       "      <td>500.000000</td>\n",
       "      <td>500.000000</td>\n",
       "      <td>500.000000</td>\n",
       "      <td>500.000000</td>\n",
       "    </tr>\n",
       "    <tr>\n",
       "      <th>mean</th>\n",
       "      <td>0.506000</td>\n",
       "      <td>46.241674</td>\n",
       "      <td>62127.239608</td>\n",
       "      <td>9607.645049</td>\n",
       "      <td>431475.713625</td>\n",
       "      <td>44209.799218</td>\n",
       "    </tr>\n",
       "    <tr>\n",
       "      <th>std</th>\n",
       "      <td>0.500465</td>\n",
       "      <td>7.978862</td>\n",
       "      <td>11703.378228</td>\n",
       "      <td>3489.187973</td>\n",
       "      <td>173536.756340</td>\n",
       "      <td>10773.178744</td>\n",
       "    </tr>\n",
       "    <tr>\n",
       "      <th>min</th>\n",
       "      <td>0.000000</td>\n",
       "      <td>20.000000</td>\n",
       "      <td>20000.000000</td>\n",
       "      <td>100.000000</td>\n",
       "      <td>20000.000000</td>\n",
       "      <td>9000.000000</td>\n",
       "    </tr>\n",
       "    <tr>\n",
       "      <th>25%</th>\n",
       "      <td>0.000000</td>\n",
       "      <td>40.949969</td>\n",
       "      <td>54391.977195</td>\n",
       "      <td>7397.515792</td>\n",
       "      <td>299824.195900</td>\n",
       "      <td>37629.896040</td>\n",
       "    </tr>\n",
       "    <tr>\n",
       "      <th>50%</th>\n",
       "      <td>1.000000</td>\n",
       "      <td>46.049901</td>\n",
       "      <td>62915.497035</td>\n",
       "      <td>9655.035568</td>\n",
       "      <td>426750.120650</td>\n",
       "      <td>43997.783390</td>\n",
       "    </tr>\n",
       "    <tr>\n",
       "      <th>75%</th>\n",
       "      <td>1.000000</td>\n",
       "      <td>51.612263</td>\n",
       "      <td>70117.862005</td>\n",
       "      <td>11798.867487</td>\n",
       "      <td>557324.478725</td>\n",
       "      <td>51254.709517</td>\n",
       "    </tr>\n",
       "    <tr>\n",
       "      <th>max</th>\n",
       "      <td>1.000000</td>\n",
       "      <td>70.000000</td>\n",
       "      <td>100000.000000</td>\n",
       "      <td>20000.000000</td>\n",
       "      <td>1000000.000000</td>\n",
       "      <td>80000.000000</td>\n",
       "    </tr>\n",
       "  </tbody>\n",
       "</table>\n",
       "</div>"
      ],
      "text/plain": [
       "           Gender         Age  Annual Salary  Credit Card Debt  \\\n",
       "count  500.000000  500.000000     500.000000        500.000000   \n",
       "mean     0.506000   46.241674   62127.239608       9607.645049   \n",
       "std      0.500465    7.978862   11703.378228       3489.187973   \n",
       "min      0.000000   20.000000   20000.000000        100.000000   \n",
       "25%      0.000000   40.949969   54391.977195       7397.515792   \n",
       "50%      1.000000   46.049901   62915.497035       9655.035568   \n",
       "75%      1.000000   51.612263   70117.862005      11798.867487   \n",
       "max      1.000000   70.000000  100000.000000      20000.000000   \n",
       "\n",
       "            Net Worth  Car Purchase Amount  \n",
       "count      500.000000           500.000000  \n",
       "mean    431475.713625         44209.799218  \n",
       "std     173536.756340         10773.178744  \n",
       "min      20000.000000          9000.000000  \n",
       "25%     299824.195900         37629.896040  \n",
       "50%     426750.120650         43997.783390  \n",
       "75%     557324.478725         51254.709517  \n",
       "max    1000000.000000         80000.000000  "
      ]
     },
     "execution_count": 98,
     "metadata": {},
     "output_type": "execute_result"
    }
   ],
   "source": [
    "# Statistiques sommaires du dataset\n",
    "car.describe()"
   ]
  },
  {
   "cell_type": "markdown",
   "id": "6e173626",
   "metadata": {},
   "source": [
    "### Definir X et y"
   ]
  },
  {
   "cell_type": "code",
   "execution_count": 99,
   "id": "8c1b00f5",
   "metadata": {
    "scrolled": true
   },
   "outputs": [
    {
     "data": {
      "text/html": [
       "<div>\n",
       "<style scoped>\n",
       "    .dataframe tbody tr th:only-of-type {\n",
       "        vertical-align: middle;\n",
       "    }\n",
       "\n",
       "    .dataframe tbody tr th {\n",
       "        vertical-align: top;\n",
       "    }\n",
       "\n",
       "    .dataframe thead th {\n",
       "        text-align: right;\n",
       "    }\n",
       "</style>\n",
       "<table border=\"1\" class=\"dataframe\">\n",
       "  <thead>\n",
       "    <tr style=\"text-align: right;\">\n",
       "      <th></th>\n",
       "      <th>Gender</th>\n",
       "      <th>Age</th>\n",
       "      <th>Annual Salary</th>\n",
       "      <th>Credit Card Debt</th>\n",
       "      <th>Net Worth</th>\n",
       "    </tr>\n",
       "  </thead>\n",
       "  <tbody>\n",
       "    <tr>\n",
       "      <th>0</th>\n",
       "      <td>0</td>\n",
       "      <td>41.851720</td>\n",
       "      <td>62812.09301</td>\n",
       "      <td>11609.380910</td>\n",
       "      <td>238961.2505</td>\n",
       "    </tr>\n",
       "    <tr>\n",
       "      <th>1</th>\n",
       "      <td>0</td>\n",
       "      <td>40.870623</td>\n",
       "      <td>66646.89292</td>\n",
       "      <td>9572.957136</td>\n",
       "      <td>530973.9078</td>\n",
       "    </tr>\n",
       "    <tr>\n",
       "      <th>2</th>\n",
       "      <td>1</td>\n",
       "      <td>43.152897</td>\n",
       "      <td>53798.55112</td>\n",
       "      <td>11160.355060</td>\n",
       "      <td>638467.1773</td>\n",
       "    </tr>\n",
       "    <tr>\n",
       "      <th>3</th>\n",
       "      <td>1</td>\n",
       "      <td>58.271369</td>\n",
       "      <td>79370.03798</td>\n",
       "      <td>14426.164850</td>\n",
       "      <td>548599.0524</td>\n",
       "    </tr>\n",
       "    <tr>\n",
       "      <th>4</th>\n",
       "      <td>1</td>\n",
       "      <td>57.313749</td>\n",
       "      <td>59729.15130</td>\n",
       "      <td>5358.712177</td>\n",
       "      <td>560304.0671</td>\n",
       "    </tr>\n",
       "  </tbody>\n",
       "</table>\n",
       "</div>"
      ],
      "text/plain": [
       "   Gender        Age  Annual Salary  Credit Card Debt    Net Worth\n",
       "0       0  41.851720    62812.09301      11609.380910  238961.2505\n",
       "1       0  40.870623    66646.89292       9572.957136  530973.9078\n",
       "2       1  43.152897    53798.55112      11160.355060  638467.1773\n",
       "3       1  58.271369    79370.03798      14426.164850  548599.0524\n",
       "4       1  57.313749    59729.15130       5358.712177  560304.0671"
      ]
     },
     "execution_count": 99,
     "metadata": {},
     "output_type": "execute_result"
    }
   ],
   "source": [
    "# Definir X\n",
    "X = car.drop([\"Car Purchase Amount\"], axis = 1)\n",
    "X.head()"
   ]
  },
  {
   "cell_type": "code",
   "execution_count": 100,
   "id": "79212f27",
   "metadata": {
    "scrolled": true
   },
   "outputs": [
    {
     "data": {
      "text/html": [
       "<div>\n",
       "<style scoped>\n",
       "    .dataframe tbody tr th:only-of-type {\n",
       "        vertical-align: middle;\n",
       "    }\n",
       "\n",
       "    .dataframe tbody tr th {\n",
       "        vertical-align: top;\n",
       "    }\n",
       "\n",
       "    .dataframe thead th {\n",
       "        text-align: right;\n",
       "    }\n",
       "</style>\n",
       "<table border=\"1\" class=\"dataframe\">\n",
       "  <thead>\n",
       "    <tr style=\"text-align: right;\">\n",
       "      <th></th>\n",
       "      <th>Car Purchase Amount</th>\n",
       "    </tr>\n",
       "  </thead>\n",
       "  <tbody>\n",
       "    <tr>\n",
       "      <th>0</th>\n",
       "      <td>35321.45877</td>\n",
       "    </tr>\n",
       "    <tr>\n",
       "      <th>1</th>\n",
       "      <td>45115.52566</td>\n",
       "    </tr>\n",
       "    <tr>\n",
       "      <th>2</th>\n",
       "      <td>42925.70921</td>\n",
       "    </tr>\n",
       "    <tr>\n",
       "      <th>3</th>\n",
       "      <td>67422.36313</td>\n",
       "    </tr>\n",
       "    <tr>\n",
       "      <th>4</th>\n",
       "      <td>55915.46248</td>\n",
       "    </tr>\n",
       "  </tbody>\n",
       "</table>\n",
       "</div>"
      ],
      "text/plain": [
       "   Car Purchase Amount\n",
       "0          35321.45877\n",
       "1          45115.52566\n",
       "2          42925.70921\n",
       "3          67422.36313\n",
       "4          55915.46248"
      ]
     },
     "execution_count": 100,
     "metadata": {},
     "output_type": "execute_result"
    }
   ],
   "source": [
    "# Definir y\n",
    "y = car[[\"Car Purchase Amount\"]]\n",
    "y.head()"
   ]
  },
  {
   "cell_type": "markdown",
   "id": "d8982a37",
   "metadata": {},
   "source": [
    "### Splitter le dataset"
   ]
  },
  {
   "cell_type": "code",
   "execution_count": 101,
   "id": "d41c946d",
   "metadata": {},
   "outputs": [],
   "source": [
    "X_train, X_test, y_train, y_test = train_test_split(X, y, test_size = 0.2, random_state = 5)"
   ]
  },
  {
   "cell_type": "markdown",
   "id": "172dcba1",
   "metadata": {},
   "source": [
    "### Normaliser les données"
   ]
  },
  {
   "cell_type": "code",
   "execution_count": 102,
   "id": "fe85f3d2",
   "metadata": {},
   "outputs": [],
   "source": [
    "scale = MinMaxScaler()\n",
    "X_train_scaled = scale.fit_transform(X_train)\n",
    "X_test_scaled = scale.transform(X_test)\n",
    "\n",
    "y = y.values.reshape(y.shape[0], 1)\n",
    "y_train_scaled = scale.fit_transform(y_train)"
   ]
  },
  {
   "cell_type": "markdown",
   "id": "e7652f70",
   "metadata": {},
   "source": [
    "### Construire le modele"
   ]
  },
  {
   "cell_type": "code",
   "execution_count": 103,
   "id": "fa1629c0",
   "metadata": {
    "scrolled": false
   },
   "outputs": [
    {
     "name": "stdout",
     "output_type": "stream",
     "text": [
      "Model: \"sequential_5\"\n",
      "_________________________________________________________________\n",
      " Layer (type)                Output Shape              Param #   \n",
      "=================================================================\n",
      " dense_15 (Dense)            (None, 100)               600       \n",
      "                                                                 \n",
      " dense_16 (Dense)            (None, 100)               10100     \n",
      "                                                                 \n",
      " dense_17 (Dense)            (None, 1)                 101       \n",
      "                                                                 \n",
      "=================================================================\n",
      "Total params: 10,801\n",
      "Trainable params: 10,801\n",
      "Non-trainable params: 0\n",
      "_________________________________________________________________\n"
     ]
    }
   ],
   "source": [
    "model = Sequential()\n",
    "model.add(Dense(100, input_dim = X_train_scaled.shape[1], activation = 'relu'))\n",
    "model.add(Dense(100, activation = 'relu'))\n",
    "model.add(Dense(1, activation = 'linear'))\n",
    "\n",
    "model.summary()"
   ]
  },
  {
   "cell_type": "markdown",
   "id": "d90b027b",
   "metadata": {},
   "source": [
    "### Optimisation du réseau neuronal"
   ]
  },
  {
   "cell_type": "code",
   "execution_count": 104,
   "id": "f8cc5c7d",
   "metadata": {},
   "outputs": [],
   "source": [
    "model.compile(optimizer='adam', loss = 'mean_squared_error', metrics = [\"accuracy\"])"
   ]
  },
  {
   "cell_type": "code",
   "execution_count": 105,
   "id": "bef093d6",
   "metadata": {
    "scrolled": false
   },
   "outputs": [
    {
     "name": "stdout",
     "output_type": "stream",
     "text": [
      "Epoch 1/60\n",
      "6/6 [==============================] - 1s 40ms/step - loss: 0.2311 - accuracy: 0.0031 - val_loss: 0.0812 - val_accuracy: 0.0000e+00\n",
      "Epoch 2/60\n",
      "6/6 [==============================] - 0s 10ms/step - loss: 0.0381 - accuracy: 0.0063 - val_loss: 0.0118 - val_accuracy: 0.0000e+00\n",
      "Epoch 3/60\n",
      "6/6 [==============================] - 0s 9ms/step - loss: 0.0261 - accuracy: 0.0063 - val_loss: 0.0246 - val_accuracy: 0.0000e+00\n",
      "Epoch 4/60\n",
      "6/6 [==============================] - 0s 9ms/step - loss: 0.0215 - accuracy: 0.0063 - val_loss: 0.0086 - val_accuracy: 0.0000e+00\n",
      "Epoch 5/60\n",
      "6/6 [==============================] - 0s 10ms/step - loss: 0.0101 - accuracy: 0.0063 - val_loss: 0.0103 - val_accuracy: 0.0000e+00\n",
      "Epoch 6/60\n",
      "6/6 [==============================] - 0s 8ms/step - loss: 0.0111 - accuracy: 0.0063 - val_loss: 0.0098 - val_accuracy: 0.0000e+00\n",
      "Epoch 7/60\n",
      "6/6 [==============================] - 0s 8ms/step - loss: 0.0090 - accuracy: 0.0063 - val_loss: 0.0070 - val_accuracy: 0.0000e+00\n",
      "Epoch 8/60\n",
      "6/6 [==============================] - 0s 9ms/step - loss: 0.0077 - accuracy: 0.0063 - val_loss: 0.0064 - val_accuracy: 0.0000e+00\n",
      "Epoch 9/60\n",
      "6/6 [==============================] - 0s 8ms/step - loss: 0.0070 - accuracy: 0.0063 - val_loss: 0.0057 - val_accuracy: 0.0000e+00\n",
      "Epoch 10/60\n",
      "6/6 [==============================] - 0s 9ms/step - loss: 0.0058 - accuracy: 0.0063 - val_loss: 0.0050 - val_accuracy: 0.0000e+00\n",
      "Epoch 11/60\n",
      "6/6 [==============================] - 0s 8ms/step - loss: 0.0052 - accuracy: 0.0063 - val_loss: 0.0041 - val_accuracy: 0.0000e+00\n",
      "Epoch 12/60\n",
      "6/6 [==============================] - 0s 8ms/step - loss: 0.0046 - accuracy: 0.0063 - val_loss: 0.0037 - val_accuracy: 0.0000e+00\n",
      "Epoch 13/60\n",
      "6/6 [==============================] - 0s 9ms/step - loss: 0.0040 - accuracy: 0.0063 - val_loss: 0.0035 - val_accuracy: 0.0000e+00\n",
      "Epoch 14/60\n",
      "6/6 [==============================] - 0s 8ms/step - loss: 0.0036 - accuracy: 0.0063 - val_loss: 0.0033 - val_accuracy: 0.0000e+00\n",
      "Epoch 15/60\n",
      "6/6 [==============================] - 0s 9ms/step - loss: 0.0030 - accuracy: 0.0063 - val_loss: 0.0028 - val_accuracy: 0.0000e+00\n",
      "Epoch 16/60\n",
      "6/6 [==============================] - 0s 8ms/step - loss: 0.0026 - accuracy: 0.0063 - val_loss: 0.0024 - val_accuracy: 0.0000e+00\n",
      "Epoch 17/60\n",
      "6/6 [==============================] - 0s 9ms/step - loss: 0.0022 - accuracy: 0.0063 - val_loss: 0.0023 - val_accuracy: 0.0000e+00\n",
      "Epoch 18/60\n",
      "6/6 [==============================] - 0s 8ms/step - loss: 0.0019 - accuracy: 0.0063 - val_loss: 0.0021 - val_accuracy: 0.0000e+00\n",
      "Epoch 19/60\n",
      "6/6 [==============================] - 0s 9ms/step - loss: 0.0016 - accuracy: 0.0063 - val_loss: 0.0019 - val_accuracy: 0.0000e+00\n",
      "Epoch 20/60\n",
      "6/6 [==============================] - 0s 9ms/step - loss: 0.0014 - accuracy: 0.0063 - val_loss: 0.0016 - val_accuracy: 0.0000e+00\n",
      "Epoch 21/60\n",
      "6/6 [==============================] - 0s 20ms/step - loss: 0.0012 - accuracy: 0.0063 - val_loss: 0.0014 - val_accuracy: 0.0000e+00\n",
      "Epoch 22/60\n",
      "6/6 [==============================] - 0s 8ms/step - loss: 0.0011 - accuracy: 0.0063 - val_loss: 0.0013 - val_accuracy: 0.0000e+00\n",
      "Epoch 23/60\n",
      "6/6 [==============================] - 0s 9ms/step - loss: 9.7155e-04 - accuracy: 0.0063 - val_loss: 0.0012 - val_accuracy: 0.0000e+00\n",
      "Epoch 24/60\n",
      "6/6 [==============================] - 0s 6ms/step - loss: 8.6679e-04 - accuracy: 0.0063 - val_loss: 0.0011 - val_accuracy: 0.0000e+00\n",
      "Epoch 25/60\n",
      "6/6 [==============================] - 0s 6ms/step - loss: 7.9483e-04 - accuracy: 0.0063 - val_loss: 0.0010 - val_accuracy: 0.0000e+00\n",
      "Epoch 26/60\n",
      "6/6 [==============================] - 0s 10ms/step - loss: 7.2866e-04 - accuracy: 0.0063 - val_loss: 9.3501e-04 - val_accuracy: 0.0000e+00\n",
      "Epoch 27/60\n",
      "6/6 [==============================] - 0s 6ms/step - loss: 6.6368e-04 - accuracy: 0.0063 - val_loss: 8.7464e-04 - val_accuracy: 0.0000e+00\n",
      "Epoch 28/60\n",
      "6/6 [==============================] - 0s 9ms/step - loss: 6.1186e-04 - accuracy: 0.0063 - val_loss: 7.8167e-04 - val_accuracy: 0.0000e+00\n",
      "Epoch 29/60\n",
      "6/6 [==============================] - 0s 6ms/step - loss: 5.6236e-04 - accuracy: 0.0063 - val_loss: 6.9476e-04 - val_accuracy: 0.0000e+00\n",
      "Epoch 30/60\n",
      "6/6 [==============================] - 0s 6ms/step - loss: 5.0526e-04 - accuracy: 0.0063 - val_loss: 6.1105e-04 - val_accuracy: 0.0000e+00\n",
      "Epoch 31/60\n",
      "6/6 [==============================] - 0s 9ms/step - loss: 4.4108e-04 - accuracy: 0.0063 - val_loss: 5.3934e-04 - val_accuracy: 0.0000e+00\n",
      "Epoch 32/60\n",
      "6/6 [==============================] - 0s 6ms/step - loss: 4.0127e-04 - accuracy: 0.0063 - val_loss: 4.8837e-04 - val_accuracy: 0.0000e+00\n",
      "Epoch 33/60\n",
      "6/6 [==============================] - 0s 8ms/step - loss: 3.4627e-04 - accuracy: 0.0063 - val_loss: 4.3541e-04 - val_accuracy: 0.0000e+00\n",
      "Epoch 34/60\n",
      "6/6 [==============================] - 0s 7ms/step - loss: 2.9813e-04 - accuracy: 0.0063 - val_loss: 3.8670e-04 - val_accuracy: 0.0000e+00\n",
      "Epoch 35/60\n",
      "6/6 [==============================] - 0s 8ms/step - loss: 2.6935e-04 - accuracy: 0.0063 - val_loss: 3.6665e-04 - val_accuracy: 0.0000e+00\n",
      "Epoch 36/60\n",
      "6/6 [==============================] - 0s 9ms/step - loss: 2.3847e-04 - accuracy: 0.0063 - val_loss: 2.7863e-04 - val_accuracy: 0.0000e+00\n",
      "Epoch 37/60\n",
      "6/6 [==============================] - 0s 6ms/step - loss: 2.0388e-04 - accuracy: 0.0063 - val_loss: 2.3647e-04 - val_accuracy: 0.0000e+00\n",
      "Epoch 38/60\n",
      "6/6 [==============================] - 0s 8ms/step - loss: 1.6429e-04 - accuracy: 0.0063 - val_loss: 2.2544e-04 - val_accuracy: 0.0000e+00\n",
      "Epoch 39/60\n",
      "6/6 [==============================] - 0s 8ms/step - loss: 1.5464e-04 - accuracy: 0.0063 - val_loss: 1.7308e-04 - val_accuracy: 0.0000e+00\n",
      "Epoch 40/60\n",
      "6/6 [==============================] - 0s 8ms/step - loss: 1.1672e-04 - accuracy: 0.0063 - val_loss: 1.3677e-04 - val_accuracy: 0.0000e+00\n",
      "Epoch 41/60\n",
      "6/6 [==============================] - 0s 8ms/step - loss: 9.8192e-05 - accuracy: 0.0063 - val_loss: 1.1942e-04 - val_accuracy: 0.0000e+00\n",
      "Epoch 42/60\n",
      "6/6 [==============================] - 0s 8ms/step - loss: 8.6468e-05 - accuracy: 0.0063 - val_loss: 9.9420e-05 - val_accuracy: 0.0000e+00\n",
      "Epoch 43/60\n",
      "6/6 [==============================] - 0s 8ms/step - loss: 7.4394e-05 - accuracy: 0.0063 - val_loss: 9.3929e-05 - val_accuracy: 0.0000e+00\n",
      "Epoch 44/60\n",
      "6/6 [==============================] - 0s 8ms/step - loss: 6.1125e-05 - accuracy: 0.0063 - val_loss: 7.8106e-05 - val_accuracy: 0.0000e+00\n",
      "Epoch 45/60\n",
      "6/6 [==============================] - 0s 9ms/step - loss: 5.6292e-05 - accuracy: 0.0063 - val_loss: 7.1295e-05 - val_accuracy: 0.0000e+00\n",
      "Epoch 46/60\n",
      "6/6 [==============================] - 0s 8ms/step - loss: 4.8117e-05 - accuracy: 0.0063 - val_loss: 6.8207e-05 - val_accuracy: 0.0000e+00\n",
      "Epoch 47/60\n",
      "6/6 [==============================] - 0s 8ms/step - loss: 4.2008e-05 - accuracy: 0.0063 - val_loss: 5.9153e-05 - val_accuracy: 0.0000e+00\n",
      "Epoch 48/60\n",
      "6/6 [==============================] - 0s 7ms/step - loss: 3.6885e-05 - accuracy: 0.0063 - val_loss: 5.6072e-05 - val_accuracy: 0.0000e+00\n",
      "Epoch 49/60\n",
      "6/6 [==============================] - 0s 6ms/step - loss: 4.0443e-05 - accuracy: 0.0063 - val_loss: 5.4825e-05 - val_accuracy: 0.0000e+00\n",
      "Epoch 50/60\n",
      "6/6 [==============================] - 0s 9ms/step - loss: 3.7392e-05 - accuracy: 0.0063 - val_loss: 5.3611e-05 - val_accuracy: 0.0000e+00\n",
      "Epoch 51/60\n",
      "6/6 [==============================] - 0s 6ms/step - loss: 3.3245e-05 - accuracy: 0.0063 - val_loss: 4.8946e-05 - val_accuracy: 0.0000e+00\n",
      "Epoch 52/60\n",
      "6/6 [==============================] - 0s 6ms/step - loss: 3.0290e-05 - accuracy: 0.0063 - val_loss: 4.5257e-05 - val_accuracy: 0.0000e+00\n",
      "Epoch 53/60\n",
      "6/6 [==============================] - 0s 9ms/step - loss: 2.7544e-05 - accuracy: 0.0063 - val_loss: 4.6048e-05 - val_accuracy: 0.0000e+00\n",
      "Epoch 54/60\n",
      "6/6 [==============================] - 0s 6ms/step - loss: 2.6240e-05 - accuracy: 0.0063 - val_loss: 4.1155e-05 - val_accuracy: 0.0000e+00\n",
      "Epoch 55/60\n",
      "6/6 [==============================] - 0s 6ms/step - loss: 2.4992e-05 - accuracy: 0.0063 - val_loss: 3.8315e-05 - val_accuracy: 0.0000e+00\n",
      "Epoch 56/60\n"
     ]
    },
    {
     "name": "stdout",
     "output_type": "stream",
     "text": [
      "6/6 [==============================] - 0s 9ms/step - loss: 2.3506e-05 - accuracy: 0.0063 - val_loss: 3.6432e-05 - val_accuracy: 0.0000e+00\n",
      "Epoch 57/60\n",
      "6/6 [==============================] - 0s 6ms/step - loss: 2.1870e-05 - accuracy: 0.0063 - val_loss: 3.6620e-05 - val_accuracy: 0.0000e+00\n",
      "Epoch 58/60\n",
      "6/6 [==============================] - 0s 7ms/step - loss: 2.0365e-05 - accuracy: 0.0063 - val_loss: 3.4851e-05 - val_accuracy: 0.0000e+00\n",
      "Epoch 59/60\n",
      "6/6 [==============================] - 0s 6ms/step - loss: 2.1787e-05 - accuracy: 0.0063 - val_loss: 3.3179e-05 - val_accuracy: 0.0000e+00\n",
      "Epoch 60/60\n",
      "6/6 [==============================] - 0s 6ms/step - loss: 2.0209e-05 - accuracy: 0.0063 - val_loss: 3.5214e-05 - val_accuracy: 0.0000e+00\n"
     ]
    }
   ],
   "source": [
    "epochs_history = model.fit(X_train_scaled, y_train_scaled, epochs = 60, validation_split = 0.2, batch_size = 60)"
   ]
  },
  {
   "cell_type": "code",
   "execution_count": 106,
   "id": "6b0c56be",
   "metadata": {},
   "outputs": [
    {
     "data": {
      "text/plain": [
       "dict_keys(['loss', 'accuracy', 'val_loss', 'val_accuracy'])"
      ]
     },
     "execution_count": 106,
     "metadata": {},
     "output_type": "execute_result"
    }
   ],
   "source": [
    "# Evaluation du modèle\n",
    "epochs_history.history.keys()"
   ]
  },
  {
   "cell_type": "markdown",
   "id": "7c06a2a1",
   "metadata": {},
   "source": [
    "### Tracer le modèle"
   ]
  },
  {
   "cell_type": "code",
   "execution_count": 107,
   "id": "14c26ccd",
   "metadata": {
    "scrolled": false
   },
   "outputs": [
    {
     "data": {
      "image/png": "[encoded data removed]",
      "text/plain": [
       "<Figure size 640x480 with 1 Axes>"
      ]
     },
     "metadata": {},
     "output_type": "display_data"
    }
   ],
   "source": [
    "plt.plot(epochs_history.history[\"loss\"])\n",
    "plt.plot(epochs_history.history[\"val_loss\"])\n",
    "plt.title(\"Model Loss Progress During Training\")\n",
    "plt.xlabel(\"Epoch Number\")\n",
    "plt.ylabel(\"Training And Validation Loss\")\n",
    "plt.legend([\"Training Loss\",\"Validation Loss\"])\n",
    "plt.show()"
   ]
  },
  {
   "cell_type": "markdown",
   "id": "1ee0f07b",
   "metadata": {},
   "source": [
    "### R2 Score"
   ]
  },
  {
   "cell_type": "code",
   "execution_count": 108,
   "id": "290e9e92",
   "metadata": {},
   "outputs": [
    {
     "name": "stdout",
     "output_type": "stream",
     "text": [
      "4/4 [==============================] - 0s 0s/step\n",
      "RMSE =  631.335\n",
      "MSE =  398583.4082166455\n",
      "MAE =  392.4235001625\n",
      "R2 =  0.9962813125416387\n"
     ]
    }
   ],
   "source": [
    "y_predict = model.predict(X_test_scaled)\n",
    "y_predict_origin = scale.inverse_transform(y_predict)\n",
    "\n",
    "from sklearn.metrics import r2_score, mean_squared_error, mean_absolute_error\n",
    "from math import sqrt\n",
    "\n",
    "RMSE = float(format(np.sqrt(mean_squared_error(y_test, y_predict_origin)), '.3f'))\n",
    "MSE = mean_squared_error(y_test, y_predict_origin)\n",
    "MAE = mean_absolute_error(y_test, y_predict_origin)\n",
    "R2 = r2_score(y_test, y_predict_origin)\n",
    "\n",
    "print('RMSE = ', RMSE)\n",
    "print('MSE = ', MSE)\n",
    "print('MAE = ', MAE)\n",
    "print('R2 = ', R2)"
   ]
  },
  {
   "cell_type": "markdown",
   "id": "ea21143a",
   "metadata": {},
   "source": [
    "### Tester le modèle"
   ]
  },
  {
   "cell_type": "code",
   "execution_count": 109,
   "id": "6ac0be62",
   "metadata": {
    "scrolled": true
   },
   "outputs": [
    {
     "name": "stdout",
     "output_type": "stream",
     "text": [
      "1/1 [==============================] - 0s 47ms/step\n"
     ]
    }
   ],
   "source": [
    "data = np.array([[1, 23, 65000, 15000, 28000]])\n",
    "prediction = model.predict(data)"
   ]
  },
  {
   "cell_type": "code",
   "execution_count": 110,
   "id": "5d474aa5",
   "metadata": {},
   "outputs": [
    {
     "name": "stdout",
     "output_type": "stream",
     "text": [
      "Car Purchase Amount:  41932.06\n"
     ]
    }
   ],
   "source": [
    "print('Car Purchase Amount: ', prediction[0][0])"
   ]
  }
 ],
 "metadata": {
  "kernelspec": {
   "display_name": "Python 3 (ipykernel)",
   "language": "python",
   "name": "python3"
  },
  "language_info": {
   "codemirror_mode": {
    "name": "ipython",
    "version": 3
   },
   "file_extension": ".py",
   "mimetype": "text/x-python",
   "name": "python",
   "nbconvert_exporter": "python",
   "pygments_lexer": "ipython3",
   "version": "3.10.6"
  }
 },
 "nbformat": 4,
 "nbformat_minor": 5
}
