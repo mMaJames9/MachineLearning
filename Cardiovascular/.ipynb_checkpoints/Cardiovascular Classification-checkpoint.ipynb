{
 "cells": [
  {
   "cell_type": "markdown",
   "id": "83d30605",
   "metadata": {},
   "source": [
    "# Cardiovascular Classification"
   ]
  },
  {
   "cell_type": "markdown",
   "id": "067b36f9",
   "metadata": {},
   "source": [
    "### Importer les librairies nécessaires"
   ]
  },
  {
   "cell_type": "code",
   "execution_count": 350,
   "id": "b8531ea4",
   "metadata": {},
   "outputs": [],
   "source": [
    "import pandas as pd\n",
    "import numpy as np\n",
    "import matplotlib.pyplot as plt\n",
    "import seaborn as sns\n",
    "from sklearn.preprocessing import MinMaxScaler\n",
    "from sklearn.model_selection import train_test_split\n",
    "from sklearn.metrics import accuracy_score, confusion_matrix, classification_report\n",
    "from keras.layers import Dense, Dropout\n",
    "import tensorflow.keras\n",
    "from keras.models import Sequential\n",
    "from keras.layers import Dense"
   ]
  },
  {
   "cell_type": "markdown",
   "id": "1efcfeac",
   "metadata": {},
   "source": [
    "### Importer le dataset"
   ]
  },
  {
   "cell_type": "code",
   "execution_count": 351,
   "id": "6af3bec7",
   "metadata": {
    "scrolled": false
   },
   "outputs": [
    {
     "data": {
      "text/html": [
       "<div>\n",
       "<style scoped>\n",
       "    .dataframe tbody tr th:only-of-type {\n",
       "        vertical-align: middle;\n",
       "    }\n",
       "\n",
       "    .dataframe tbody tr th {\n",
       "        vertical-align: top;\n",
       "    }\n",
       "\n",
       "    .dataframe thead th {\n",
       "        text-align: right;\n",
       "    }\n",
       "</style>\n",
       "<table border=\"1\" class=\"dataframe\">\n",
       "  <thead>\n",
       "    <tr style=\"text-align: right;\">\n",
       "      <th></th>\n",
       "      <th>id</th>\n",
       "      <th>age</th>\n",
       "      <th>gender</th>\n",
       "      <th>height</th>\n",
       "      <th>weight</th>\n",
       "      <th>ap_hi</th>\n",
       "      <th>ap_lo</th>\n",
       "      <th>cholesterol</th>\n",
       "      <th>gluc</th>\n",
       "      <th>smoke</th>\n",
       "      <th>alco</th>\n",
       "      <th>active</th>\n",
       "      <th>cardio</th>\n",
       "    </tr>\n",
       "  </thead>\n",
       "  <tbody>\n",
       "    <tr>\n",
       "      <th>0</th>\n",
       "      <td>0</td>\n",
       "      <td>18393</td>\n",
       "      <td>2</td>\n",
       "      <td>168</td>\n",
       "      <td>62.0</td>\n",
       "      <td>110</td>\n",
       "      <td>80</td>\n",
       "      <td>1</td>\n",
       "      <td>1</td>\n",
       "      <td>0</td>\n",
       "      <td>0</td>\n",
       "      <td>1</td>\n",
       "      <td>0</td>\n",
       "    </tr>\n",
       "    <tr>\n",
       "      <th>1</th>\n",
       "      <td>1</td>\n",
       "      <td>20228</td>\n",
       "      <td>1</td>\n",
       "      <td>156</td>\n",
       "      <td>85.0</td>\n",
       "      <td>140</td>\n",
       "      <td>90</td>\n",
       "      <td>3</td>\n",
       "      <td>1</td>\n",
       "      <td>0</td>\n",
       "      <td>0</td>\n",
       "      <td>1</td>\n",
       "      <td>1</td>\n",
       "    </tr>\n",
       "    <tr>\n",
       "      <th>2</th>\n",
       "      <td>2</td>\n",
       "      <td>18857</td>\n",
       "      <td>1</td>\n",
       "      <td>165</td>\n",
       "      <td>64.0</td>\n",
       "      <td>130</td>\n",
       "      <td>70</td>\n",
       "      <td>3</td>\n",
       "      <td>1</td>\n",
       "      <td>0</td>\n",
       "      <td>0</td>\n",
       "      <td>0</td>\n",
       "      <td>1</td>\n",
       "    </tr>\n",
       "    <tr>\n",
       "      <th>3</th>\n",
       "      <td>3</td>\n",
       "      <td>17623</td>\n",
       "      <td>2</td>\n",
       "      <td>169</td>\n",
       "      <td>82.0</td>\n",
       "      <td>150</td>\n",
       "      <td>100</td>\n",
       "      <td>1</td>\n",
       "      <td>1</td>\n",
       "      <td>0</td>\n",
       "      <td>0</td>\n",
       "      <td>1</td>\n",
       "      <td>1</td>\n",
       "    </tr>\n",
       "    <tr>\n",
       "      <th>4</th>\n",
       "      <td>4</td>\n",
       "      <td>17474</td>\n",
       "      <td>1</td>\n",
       "      <td>156</td>\n",
       "      <td>56.0</td>\n",
       "      <td>100</td>\n",
       "      <td>60</td>\n",
       "      <td>1</td>\n",
       "      <td>1</td>\n",
       "      <td>0</td>\n",
       "      <td>0</td>\n",
       "      <td>0</td>\n",
       "      <td>0</td>\n",
       "    </tr>\n",
       "  </tbody>\n",
       "</table>\n",
       "</div>"
      ],
      "text/plain": [
       "   id    age  gender  height  weight  ap_hi  ap_lo  cholesterol  gluc  smoke  \\\n",
       "0   0  18393       2     168    62.0    110     80            1     1      0   \n",
       "1   1  20228       1     156    85.0    140     90            3     1      0   \n",
       "2   2  18857       1     165    64.0    130     70            3     1      0   \n",
       "3   3  17623       2     169    82.0    150    100            1     1      0   \n",
       "4   4  17474       1     156    56.0    100     60            1     1      0   \n",
       "\n",
       "   alco  active  cardio  \n",
       "0     0       1       0  \n",
       "1     0       1       1  \n",
       "2     0       0       1  \n",
       "3     0       1       1  \n",
       "4     0       0       0  "
      ]
     },
     "execution_count": 351,
     "metadata": {},
     "output_type": "execute_result"
    }
   ],
   "source": [
    "file = \"cardiovascular.xlsx\"\n",
    "\n",
    "cardio_df = pd.read_excel(file, engine='openpyxl')\n",
    "cardio_df.head()"
   ]
  },
  {
   "cell_type": "markdown",
   "id": "0d11b3c2",
   "metadata": {},
   "source": [
    "### Nettoyer le dataset"
   ]
  },
  {
   "cell_type": "code",
   "execution_count": 352,
   "id": "a3cc298d",
   "metadata": {
    "scrolled": true
   },
   "outputs": [
    {
     "data": {
      "text/plain": [
       "Index(['id', 'age', 'gender', 'height', 'weight', 'ap_hi', 'ap_lo',\n",
       "       'cholesterol', 'gluc', 'smoke', 'alco', 'active', 'cardio'],\n",
       "      dtype='object')"
      ]
     },
     "execution_count": 352,
     "metadata": {},
     "output_type": "execute_result"
    }
   ],
   "source": [
    "# Afficher les colonnes du dataset\n",
    "cardio_df.columns"
   ]
  },
  {
   "cell_type": "code",
   "execution_count": 353,
   "id": "efa63bf5",
   "metadata": {
    "scrolled": false
   },
   "outputs": [
    {
     "data": {
      "text/html": [
       "<div>\n",
       "<style scoped>\n",
       "    .dataframe tbody tr th:only-of-type {\n",
       "        vertical-align: middle;\n",
       "    }\n",
       "\n",
       "    .dataframe tbody tr th {\n",
       "        vertical-align: top;\n",
       "    }\n",
       "\n",
       "    .dataframe thead th {\n",
       "        text-align: right;\n",
       "    }\n",
       "</style>\n",
       "<table border=\"1\" class=\"dataframe\">\n",
       "  <thead>\n",
       "    <tr style=\"text-align: right;\">\n",
       "      <th></th>\n",
       "      <th>age</th>\n",
       "      <th>gender</th>\n",
       "      <th>height</th>\n",
       "      <th>weight</th>\n",
       "      <th>ap_hi</th>\n",
       "      <th>ap_lo</th>\n",
       "      <th>cholesterol</th>\n",
       "      <th>gluc</th>\n",
       "      <th>smoke</th>\n",
       "      <th>alco</th>\n",
       "      <th>active</th>\n",
       "      <th>cardio</th>\n",
       "    </tr>\n",
       "  </thead>\n",
       "  <tbody>\n",
       "    <tr>\n",
       "      <th>0</th>\n",
       "      <td>18393</td>\n",
       "      <td>2</td>\n",
       "      <td>168</td>\n",
       "      <td>62.0</td>\n",
       "      <td>110</td>\n",
       "      <td>80</td>\n",
       "      <td>1</td>\n",
       "      <td>1</td>\n",
       "      <td>0</td>\n",
       "      <td>0</td>\n",
       "      <td>1</td>\n",
       "      <td>0</td>\n",
       "    </tr>\n",
       "    <tr>\n",
       "      <th>1</th>\n",
       "      <td>20228</td>\n",
       "      <td>1</td>\n",
       "      <td>156</td>\n",
       "      <td>85.0</td>\n",
       "      <td>140</td>\n",
       "      <td>90</td>\n",
       "      <td>3</td>\n",
       "      <td>1</td>\n",
       "      <td>0</td>\n",
       "      <td>0</td>\n",
       "      <td>1</td>\n",
       "      <td>1</td>\n",
       "    </tr>\n",
       "    <tr>\n",
       "      <th>2</th>\n",
       "      <td>18857</td>\n",
       "      <td>1</td>\n",
       "      <td>165</td>\n",
       "      <td>64.0</td>\n",
       "      <td>130</td>\n",
       "      <td>70</td>\n",
       "      <td>3</td>\n",
       "      <td>1</td>\n",
       "      <td>0</td>\n",
       "      <td>0</td>\n",
       "      <td>0</td>\n",
       "      <td>1</td>\n",
       "    </tr>\n",
       "    <tr>\n",
       "      <th>3</th>\n",
       "      <td>17623</td>\n",
       "      <td>2</td>\n",
       "      <td>169</td>\n",
       "      <td>82.0</td>\n",
       "      <td>150</td>\n",
       "      <td>100</td>\n",
       "      <td>1</td>\n",
       "      <td>1</td>\n",
       "      <td>0</td>\n",
       "      <td>0</td>\n",
       "      <td>1</td>\n",
       "      <td>1</td>\n",
       "    </tr>\n",
       "    <tr>\n",
       "      <th>4</th>\n",
       "      <td>17474</td>\n",
       "      <td>1</td>\n",
       "      <td>156</td>\n",
       "      <td>56.0</td>\n",
       "      <td>100</td>\n",
       "      <td>60</td>\n",
       "      <td>1</td>\n",
       "      <td>1</td>\n",
       "      <td>0</td>\n",
       "      <td>0</td>\n",
       "      <td>0</td>\n",
       "      <td>0</td>\n",
       "    </tr>\n",
       "  </tbody>\n",
       "</table>\n",
       "</div>"
      ],
      "text/plain": [
       "     age  gender  height  weight  ap_hi  ap_lo  cholesterol  gluc  smoke  \\\n",
       "0  18393       2     168    62.0    110     80            1     1      0   \n",
       "1  20228       1     156    85.0    140     90            3     1      0   \n",
       "2  18857       1     165    64.0    130     70            3     1      0   \n",
       "3  17623       2     169    82.0    150    100            1     1      0   \n",
       "4  17474       1     156    56.0    100     60            1     1      0   \n",
       "\n",
       "   alco  active  cardio  \n",
       "0     0       1       0  \n",
       "1     0       1       1  \n",
       "2     0       0       1  \n",
       "3     0       1       1  \n",
       "4     0       0       0  "
      ]
     },
     "execution_count": 353,
     "metadata": {},
     "output_type": "execute_result"
    }
   ],
   "source": [
    "# Supprimer les colonnes inutiles\n",
    "user_identifier = cardio_df[\"id\"]\n",
    "cardio = cardio_df.drop(['id'], axis = 1)\n",
    "cardio.head()"
   ]
  },
  {
   "cell_type": "code",
   "execution_count": 354,
   "id": "4529bd59",
   "metadata": {
    "scrolled": true
   },
   "outputs": [
    {
     "data": {
      "text/html": [
       "<div>\n",
       "<style scoped>\n",
       "    .dataframe tbody tr th:only-of-type {\n",
       "        vertical-align: middle;\n",
       "    }\n",
       "\n",
       "    .dataframe tbody tr th {\n",
       "        vertical-align: top;\n",
       "    }\n",
       "\n",
       "    .dataframe thead th {\n",
       "        text-align: right;\n",
       "    }\n",
       "</style>\n",
       "<table border=\"1\" class=\"dataframe\">\n",
       "  <thead>\n",
       "    <tr style=\"text-align: right;\">\n",
       "      <th></th>\n",
       "      <th>age</th>\n",
       "      <th>gender</th>\n",
       "      <th>height</th>\n",
       "      <th>weight</th>\n",
       "      <th>ap_hi</th>\n",
       "      <th>ap_lo</th>\n",
       "      <th>cholesterol</th>\n",
       "      <th>gluc</th>\n",
       "      <th>smoke</th>\n",
       "      <th>alco</th>\n",
       "      <th>active</th>\n",
       "      <th>cardio</th>\n",
       "      <th>age_year</th>\n",
       "    </tr>\n",
       "  </thead>\n",
       "  <tbody>\n",
       "    <tr>\n",
       "      <th>0</th>\n",
       "      <td>18393</td>\n",
       "      <td>2</td>\n",
       "      <td>168</td>\n",
       "      <td>62.0</td>\n",
       "      <td>110</td>\n",
       "      <td>80</td>\n",
       "      <td>1</td>\n",
       "      <td>1</td>\n",
       "      <td>0</td>\n",
       "      <td>0</td>\n",
       "      <td>1</td>\n",
       "      <td>0</td>\n",
       "      <td>50</td>\n",
       "    </tr>\n",
       "    <tr>\n",
       "      <th>1</th>\n",
       "      <td>20228</td>\n",
       "      <td>1</td>\n",
       "      <td>156</td>\n",
       "      <td>85.0</td>\n",
       "      <td>140</td>\n",
       "      <td>90</td>\n",
       "      <td>3</td>\n",
       "      <td>1</td>\n",
       "      <td>0</td>\n",
       "      <td>0</td>\n",
       "      <td>1</td>\n",
       "      <td>1</td>\n",
       "      <td>55</td>\n",
       "    </tr>\n",
       "    <tr>\n",
       "      <th>2</th>\n",
       "      <td>18857</td>\n",
       "      <td>1</td>\n",
       "      <td>165</td>\n",
       "      <td>64.0</td>\n",
       "      <td>130</td>\n",
       "      <td>70</td>\n",
       "      <td>3</td>\n",
       "      <td>1</td>\n",
       "      <td>0</td>\n",
       "      <td>0</td>\n",
       "      <td>0</td>\n",
       "      <td>1</td>\n",
       "      <td>52</td>\n",
       "    </tr>\n",
       "    <tr>\n",
       "      <th>3</th>\n",
       "      <td>17623</td>\n",
       "      <td>2</td>\n",
       "      <td>169</td>\n",
       "      <td>82.0</td>\n",
       "      <td>150</td>\n",
       "      <td>100</td>\n",
       "      <td>1</td>\n",
       "      <td>1</td>\n",
       "      <td>0</td>\n",
       "      <td>0</td>\n",
       "      <td>1</td>\n",
       "      <td>1</td>\n",
       "      <td>48</td>\n",
       "    </tr>\n",
       "    <tr>\n",
       "      <th>4</th>\n",
       "      <td>17474</td>\n",
       "      <td>1</td>\n",
       "      <td>156</td>\n",
       "      <td>56.0</td>\n",
       "      <td>100</td>\n",
       "      <td>60</td>\n",
       "      <td>1</td>\n",
       "      <td>1</td>\n",
       "      <td>0</td>\n",
       "      <td>0</td>\n",
       "      <td>0</td>\n",
       "      <td>0</td>\n",
       "      <td>48</td>\n",
       "    </tr>\n",
       "  </tbody>\n",
       "</table>\n",
       "</div>"
      ],
      "text/plain": [
       "     age  gender  height  weight  ap_hi  ap_lo  cholesterol  gluc  smoke  \\\n",
       "0  18393       2     168    62.0    110     80            1     1      0   \n",
       "1  20228       1     156    85.0    140     90            3     1      0   \n",
       "2  18857       1     165    64.0    130     70            3     1      0   \n",
       "3  17623       2     169    82.0    150    100            1     1      0   \n",
       "4  17474       1     156    56.0    100     60            1     1      0   \n",
       "\n",
       "   alco  active  cardio  age_year  \n",
       "0     0       1       0        50  \n",
       "1     0       1       1        55  \n",
       "2     0       0       1        52  \n",
       "3     0       1       1        48  \n",
       "4     0       0       0        48  "
      ]
     },
     "execution_count": 354,
     "metadata": {},
     "output_type": "execute_result"
    }
   ],
   "source": [
    "# L'âge est en jours. Convertir l'âge en années\n",
    "years = []\n",
    "for i in cardio['age']:\n",
    "    yr = round(i / 365)\n",
    "    years.append(yr)\n",
    "    \n",
    "cardio['age_year'] = years\n",
    "cardio.head()"
   ]
  },
  {
   "cell_type": "code",
   "execution_count": 355,
   "id": "614bd0fc",
   "metadata": {},
   "outputs": [
    {
     "data": {
      "text/html": [
       "<div>\n",
       "<style scoped>\n",
       "    .dataframe tbody tr th:only-of-type {\n",
       "        vertical-align: middle;\n",
       "    }\n",
       "\n",
       "    .dataframe tbody tr th {\n",
       "        vertical-align: top;\n",
       "    }\n",
       "\n",
       "    .dataframe thead th {\n",
       "        text-align: right;\n",
       "    }\n",
       "</style>\n",
       "<table border=\"1\" class=\"dataframe\">\n",
       "  <thead>\n",
       "    <tr style=\"text-align: right;\">\n",
       "      <th></th>\n",
       "      <th>gender</th>\n",
       "      <th>height</th>\n",
       "      <th>weight</th>\n",
       "      <th>ap_hi</th>\n",
       "      <th>ap_lo</th>\n",
       "      <th>cholesterol</th>\n",
       "      <th>gluc</th>\n",
       "      <th>smoke</th>\n",
       "      <th>alco</th>\n",
       "      <th>active</th>\n",
       "      <th>cardio</th>\n",
       "      <th>age_year</th>\n",
       "    </tr>\n",
       "  </thead>\n",
       "  <tbody>\n",
       "    <tr>\n",
       "      <th>0</th>\n",
       "      <td>2</td>\n",
       "      <td>168</td>\n",
       "      <td>62.0</td>\n",
       "      <td>110</td>\n",
       "      <td>80</td>\n",
       "      <td>1</td>\n",
       "      <td>1</td>\n",
       "      <td>0</td>\n",
       "      <td>0</td>\n",
       "      <td>1</td>\n",
       "      <td>0</td>\n",
       "      <td>50</td>\n",
       "    </tr>\n",
       "    <tr>\n",
       "      <th>1</th>\n",
       "      <td>1</td>\n",
       "      <td>156</td>\n",
       "      <td>85.0</td>\n",
       "      <td>140</td>\n",
       "      <td>90</td>\n",
       "      <td>3</td>\n",
       "      <td>1</td>\n",
       "      <td>0</td>\n",
       "      <td>0</td>\n",
       "      <td>1</td>\n",
       "      <td>1</td>\n",
       "      <td>55</td>\n",
       "    </tr>\n",
       "    <tr>\n",
       "      <th>2</th>\n",
       "      <td>1</td>\n",
       "      <td>165</td>\n",
       "      <td>64.0</td>\n",
       "      <td>130</td>\n",
       "      <td>70</td>\n",
       "      <td>3</td>\n",
       "      <td>1</td>\n",
       "      <td>0</td>\n",
       "      <td>0</td>\n",
       "      <td>0</td>\n",
       "      <td>1</td>\n",
       "      <td>52</td>\n",
       "    </tr>\n",
       "    <tr>\n",
       "      <th>3</th>\n",
       "      <td>2</td>\n",
       "      <td>169</td>\n",
       "      <td>82.0</td>\n",
       "      <td>150</td>\n",
       "      <td>100</td>\n",
       "      <td>1</td>\n",
       "      <td>1</td>\n",
       "      <td>0</td>\n",
       "      <td>0</td>\n",
       "      <td>1</td>\n",
       "      <td>1</td>\n",
       "      <td>48</td>\n",
       "    </tr>\n",
       "    <tr>\n",
       "      <th>4</th>\n",
       "      <td>1</td>\n",
       "      <td>156</td>\n",
       "      <td>56.0</td>\n",
       "      <td>100</td>\n",
       "      <td>60</td>\n",
       "      <td>1</td>\n",
       "      <td>1</td>\n",
       "      <td>0</td>\n",
       "      <td>0</td>\n",
       "      <td>0</td>\n",
       "      <td>0</td>\n",
       "      <td>48</td>\n",
       "    </tr>\n",
       "  </tbody>\n",
       "</table>\n",
       "</div>"
      ],
      "text/plain": [
       "   gender  height  weight  ap_hi  ap_lo  cholesterol  gluc  smoke  alco  \\\n",
       "0       2     168    62.0    110     80            1     1      0     0   \n",
       "1       1     156    85.0    140     90            3     1      0     0   \n",
       "2       1     165    64.0    130     70            3     1      0     0   \n",
       "3       2     169    82.0    150    100            1     1      0     0   \n",
       "4       1     156    56.0    100     60            1     1      0     0   \n",
       "\n",
       "   active  cardio  age_year  \n",
       "0       1       0        50  \n",
       "1       1       1        55  \n",
       "2       0       1        52  \n",
       "3       1       1        48  \n",
       "4       0       0        48  "
      ]
     },
     "execution_count": 355,
     "metadata": {},
     "output_type": "execute_result"
    }
   ],
   "source": [
    "# Supprimer la colonne de l'âge en jours\n",
    "cardio.drop(['age'], axis = 1, inplace = True)\n",
    "cardio.head()"
   ]
  },
  {
   "cell_type": "code",
   "execution_count": 356,
   "id": "f293d969",
   "metadata": {
    "scrolled": true
   },
   "outputs": [
    {
     "data": {
      "text/plain": [
       "gender         0\n",
       "height         0\n",
       "weight         0\n",
       "ap_hi          0\n",
       "ap_lo          0\n",
       "cholesterol    0\n",
       "gluc           0\n",
       "smoke          0\n",
       "alco           0\n",
       "active         0\n",
       "cardio         0\n",
       "age_year       0\n",
       "dtype: int64"
      ]
     },
     "execution_count": 356,
     "metadata": {},
     "output_type": "execute_result"
    }
   ],
   "source": [
    "# Vérifier les valeurs nulles et les erreurs\n",
    "cardio.isna().sum()"
   ]
  },
  {
   "cell_type": "markdown",
   "id": "25246f48",
   "metadata": {},
   "source": [
    "### Analyse des données"
   ]
  },
  {
   "cell_type": "code",
   "execution_count": 357,
   "id": "36ba5e57",
   "metadata": {
    "scrolled": false
   },
   "outputs": [
    {
     "data": {
      "image/png": "[encoded data removed]",
      "text/plain": [
       "<Figure size 640x480 with 1 Axes>"
      ]
     },
     "metadata": {},
     "output_type": "display_data"
    }
   ],
   "source": [
    "# Histogramme représentant la variable Genre\n",
    "sns.countplot(x = \"gender\", data = cardio)\n",
    "\n",
    "plt.xlabel(\"Gender\")\n",
    "plt.ylabel(\"Count\")\n",
    "plt.title(\"Nombre de Patients par Genre\")\n",
    "plt.show()"
   ]
  },
  {
   "cell_type": "markdown",
   "id": "98ac8ba0",
   "metadata": {},
   "source": [
    "#### 1 représente ici les personnes de sexe féminin et 2 les patients de sexe masculin"
   ]
  },
  {
   "cell_type": "code",
   "execution_count": 358,
   "id": "70542ac7",
   "metadata": {
    "scrolled": false
   },
   "outputs": [
    {
     "data": {
      "image/png": "[encoded data removed]",
      "text/plain": [
       "<Figure size 640x480 with 1 Axes>"
      ]
     },
     "metadata": {},
     "output_type": "display_data"
    }
   ],
   "source": [
    "# Histogramme représentant la variable Cholesterol\n",
    "sns.countplot(x = \"cholesterol\", data = cardio, hue = \"gender\")\n",
    "\n",
    "plt.xlabel(\"Cholesterol\")\n",
    "plt.ylabel(\"Count\")\n",
    "plt.title(\"Nombre de Patients par taux de Cholesterol\")\n",
    "plt.show()"
   ]
  },
  {
   "cell_type": "markdown",
   "id": "db6c617e",
   "metadata": {},
   "source": [
    "#### Le taux 1: normal, 2: au dessus de la normale et 3: Bien au dessus de la normale. On peu observer que la plupart des personnes ont un taux de cholesterol normal"
   ]
  },
  {
   "cell_type": "code",
   "execution_count": 359,
   "id": "3afc78a7",
   "metadata": {
    "scrolled": false
   },
   "outputs": [
    {
     "data": {
      "image/png": "[encoded data removed]",
      "text/plain": [
       "<Figure size 640x480 with 1 Axes>"
      ]
     },
     "metadata": {},
     "output_type": "display_data"
    }
   ],
   "source": [
    "# Histogramme représentant la variable Gluc\n",
    "sns.countplot(x = \"gluc\", data = cardio, hue = \"gender\")\n",
    "\n",
    "plt.xlabel(\"Gluc\")\n",
    "plt.ylabel(\"Count\")\n",
    "plt.title(\"Nombre de Patients par taux de Glucose\")\n",
    "plt.show()"
   ]
  },
  {
   "cell_type": "markdown",
   "id": "87d9260e",
   "metadata": {},
   "source": [
    "#### Le taux 1: normal, 2: au dessus de la normale et 3: Bien au dessus de la normale. On peu observer que presque 80% des personnes ont un taux de glucose normal"
   ]
  },
  {
   "cell_type": "code",
   "execution_count": 360,
   "id": "0a5c0720",
   "metadata": {
    "scrolled": false
   },
   "outputs": [
    {
     "data": {
      "image/png": "[encoded data removed]",
      "text/plain": [
       "<Figure size 640x480 with 1 Axes>"
      ]
     },
     "metadata": {},
     "output_type": "display_data"
    }
   ],
   "source": [
    "# Représentation de la variable cholesterol par rapport à la variable cardio\n",
    "sns.barplot(x = 'cholesterol', y = 'cardio', data = cardio, hue = \"gender\")\n",
    "\n",
    "plt.title(\"Nombre de personnes cardiaques en fonction du taux de Cholesterol\")\n",
    "plt.xlabel(\"Cholesterol\")\n",
    "plt.ylabel(\"Cardiaque\")\n",
    "plt.show()"
   ]
  },
  {
   "cell_type": "markdown",
   "id": "9f186d58",
   "metadata": {},
   "source": [
    "#### Dans le graphique ci-dessus, nous pouvons observer que les personnes ayant un niveau de cholesterol normal ont moins tendance à contracter une maladie cardiovasculaire"
   ]
  },
  {
   "cell_type": "code",
   "execution_count": 361,
   "id": "0c74e551",
   "metadata": {
    "scrolled": false
   },
   "outputs": [
    {
     "data": {
      "image/png": "[encoded data removed]",
      "text/plain": [
       "<Figure size 640x480 with 1 Axes>"
      ]
     },
     "metadata": {},
     "output_type": "display_data"
    }
   ],
   "source": [
    "# Représentation de la variable gluc par rapport à la variable cardio\n",
    "sns.barplot(x = 'gluc', y = 'cardio', data = cardio, hue = \"gender\")\n",
    "\n",
    "plt.title(\"Nombre de personnes cardiaques en fonction du Niveau de Glucose\")\n",
    "plt.xlabel(\"Glucose\")\n",
    "plt.ylabel(\"Cardiaque\")\n",
    "plt.show()"
   ]
  },
  {
   "cell_type": "markdown",
   "id": "0e914262",
   "metadata": {},
   "source": [
    "#### Dans le graphique ci-dessus, nous pouvons observer que les personnes ayant un taux de glucose normal ont moins tendance à contracter une maladie cardiovasculaire"
   ]
  },
  {
   "cell_type": "code",
   "execution_count": 362,
   "id": "6a367b2c",
   "metadata": {
    "scrolled": false
   },
   "outputs": [
    {
     "data": {
      "image/png": "[encoded data removed]",
      "text/plain": [
       "<Figure size 500x500 with 1 Axes>"
      ]
     },
     "metadata": {},
     "output_type": "display_data"
    }
   ],
   "source": [
    "# Distribution sur la variable Age\n",
    "sns.displot(data = cardio, x = \"age_year\", kde = True)\n",
    "\n",
    "plt.xlabel(\"Age\")\n",
    "plt.title(\"Distribution Age\")\n",
    "plt.show()"
   ]
  },
  {
   "cell_type": "markdown",
   "id": "3598052f",
   "metadata": {},
   "source": [
    "#### On observe que la distribution de l'age est asymétrique vers la gauche. Le côté droit de l'histogramme de la distribution de l'age est supérieur au côté droit. La plupart des cas étudiés ont un age moyen de 55 ans."
   ]
  },
  {
   "cell_type": "markdown",
   "id": "fdbd42a2",
   "metadata": {},
   "source": [
    "### Definir X et y"
   ]
  },
  {
   "cell_type": "code",
   "execution_count": 363,
   "id": "4a987279",
   "metadata": {
    "scrolled": true
   },
   "outputs": [
    {
     "data": {
      "text/html": [
       "<div>\n",
       "<style scoped>\n",
       "    .dataframe tbody tr th:only-of-type {\n",
       "        vertical-align: middle;\n",
       "    }\n",
       "\n",
       "    .dataframe tbody tr th {\n",
       "        vertical-align: top;\n",
       "    }\n",
       "\n",
       "    .dataframe thead th {\n",
       "        text-align: right;\n",
       "    }\n",
       "</style>\n",
       "<table border=\"1\" class=\"dataframe\">\n",
       "  <thead>\n",
       "    <tr style=\"text-align: right;\">\n",
       "      <th></th>\n",
       "      <th>gender</th>\n",
       "      <th>height</th>\n",
       "      <th>weight</th>\n",
       "      <th>ap_hi</th>\n",
       "      <th>ap_lo</th>\n",
       "      <th>cholesterol</th>\n",
       "      <th>gluc</th>\n",
       "      <th>smoke</th>\n",
       "      <th>alco</th>\n",
       "      <th>active</th>\n",
       "      <th>age_year</th>\n",
       "    </tr>\n",
       "  </thead>\n",
       "  <tbody>\n",
       "    <tr>\n",
       "      <th>0</th>\n",
       "      <td>2</td>\n",
       "      <td>168</td>\n",
       "      <td>62.0</td>\n",
       "      <td>110</td>\n",
       "      <td>80</td>\n",
       "      <td>1</td>\n",
       "      <td>1</td>\n",
       "      <td>0</td>\n",
       "      <td>0</td>\n",
       "      <td>1</td>\n",
       "      <td>50</td>\n",
       "    </tr>\n",
       "    <tr>\n",
       "      <th>1</th>\n",
       "      <td>1</td>\n",
       "      <td>156</td>\n",
       "      <td>85.0</td>\n",
       "      <td>140</td>\n",
       "      <td>90</td>\n",
       "      <td>3</td>\n",
       "      <td>1</td>\n",
       "      <td>0</td>\n",
       "      <td>0</td>\n",
       "      <td>1</td>\n",
       "      <td>55</td>\n",
       "    </tr>\n",
       "    <tr>\n",
       "      <th>2</th>\n",
       "      <td>1</td>\n",
       "      <td>165</td>\n",
       "      <td>64.0</td>\n",
       "      <td>130</td>\n",
       "      <td>70</td>\n",
       "      <td>3</td>\n",
       "      <td>1</td>\n",
       "      <td>0</td>\n",
       "      <td>0</td>\n",
       "      <td>0</td>\n",
       "      <td>52</td>\n",
       "    </tr>\n",
       "    <tr>\n",
       "      <th>3</th>\n",
       "      <td>2</td>\n",
       "      <td>169</td>\n",
       "      <td>82.0</td>\n",
       "      <td>150</td>\n",
       "      <td>100</td>\n",
       "      <td>1</td>\n",
       "      <td>1</td>\n",
       "      <td>0</td>\n",
       "      <td>0</td>\n",
       "      <td>1</td>\n",
       "      <td>48</td>\n",
       "    </tr>\n",
       "    <tr>\n",
       "      <th>4</th>\n",
       "      <td>1</td>\n",
       "      <td>156</td>\n",
       "      <td>56.0</td>\n",
       "      <td>100</td>\n",
       "      <td>60</td>\n",
       "      <td>1</td>\n",
       "      <td>1</td>\n",
       "      <td>0</td>\n",
       "      <td>0</td>\n",
       "      <td>0</td>\n",
       "      <td>48</td>\n",
       "    </tr>\n",
       "  </tbody>\n",
       "</table>\n",
       "</div>"
      ],
      "text/plain": [
       "   gender  height  weight  ap_hi  ap_lo  cholesterol  gluc  smoke  alco  \\\n",
       "0       2     168    62.0    110     80            1     1      0     0   \n",
       "1       1     156    85.0    140     90            3     1      0     0   \n",
       "2       1     165    64.0    130     70            3     1      0     0   \n",
       "3       2     169    82.0    150    100            1     1      0     0   \n",
       "4       1     156    56.0    100     60            1     1      0     0   \n",
       "\n",
       "   active  age_year  \n",
       "0       1        50  \n",
       "1       1        55  \n",
       "2       0        52  \n",
       "3       1        48  \n",
       "4       0        48  "
      ]
     },
     "execution_count": 363,
     "metadata": {},
     "output_type": "execute_result"
    }
   ],
   "source": [
    "# Definir X\n",
    "X = cardio.drop([\"cardio\"], axis = 1)\n",
    "X.head()"
   ]
  },
  {
   "cell_type": "code",
   "execution_count": 364,
   "id": "ff232970",
   "metadata": {
    "scrolled": false
   },
   "outputs": [
    {
     "data": {
      "text/html": [
       "<div>\n",
       "<style scoped>\n",
       "    .dataframe tbody tr th:only-of-type {\n",
       "        vertical-align: middle;\n",
       "    }\n",
       "\n",
       "    .dataframe tbody tr th {\n",
       "        vertical-align: top;\n",
       "    }\n",
       "\n",
       "    .dataframe thead th {\n",
       "        text-align: right;\n",
       "    }\n",
       "</style>\n",
       "<table border=\"1\" class=\"dataframe\">\n",
       "  <thead>\n",
       "    <tr style=\"text-align: right;\">\n",
       "      <th></th>\n",
       "      <th>cardio</th>\n",
       "    </tr>\n",
       "  </thead>\n",
       "  <tbody>\n",
       "    <tr>\n",
       "      <th>0</th>\n",
       "      <td>0</td>\n",
       "    </tr>\n",
       "    <tr>\n",
       "      <th>1</th>\n",
       "      <td>1</td>\n",
       "    </tr>\n",
       "    <tr>\n",
       "      <th>2</th>\n",
       "      <td>1</td>\n",
       "    </tr>\n",
       "    <tr>\n",
       "      <th>3</th>\n",
       "      <td>1</td>\n",
       "    </tr>\n",
       "    <tr>\n",
       "      <th>4</th>\n",
       "      <td>0</td>\n",
       "    </tr>\n",
       "  </tbody>\n",
       "</table>\n",
       "</div>"
      ],
      "text/plain": [
       "   cardio\n",
       "0       0\n",
       "1       1\n",
       "2       1\n",
       "3       1\n",
       "4       0"
      ]
     },
     "execution_count": 364,
     "metadata": {},
     "output_type": "execute_result"
    }
   ],
   "source": [
    "# Definir y\n",
    "y = cardio[[\"cardio\"]]\n",
    "y.head()"
   ]
  },
  {
   "cell_type": "markdown",
   "id": "72f74fcf",
   "metadata": {},
   "source": [
    "### Splitter le dataset"
   ]
  },
  {
   "cell_type": "code",
   "execution_count": 365,
   "id": "6895ef8a",
   "metadata": {},
   "outputs": [],
   "source": [
    "X_train, X_test, y_train, y_test = train_test_split(X, y, test_size = 0.2, random_state = 5)"
   ]
  },
  {
   "cell_type": "markdown",
   "id": "01c65295",
   "metadata": {},
   "source": [
    "### Normaliser les données"
   ]
  },
  {
   "cell_type": "code",
   "execution_count": 366,
   "id": "61119521",
   "metadata": {},
   "outputs": [],
   "source": [
    "scale = MinMaxScaler()\n",
    "X_train_scaled = scale.fit_transform(X_train)\n",
    "X_test_scaled = scale.transform(X_test)\n",
    "\n",
    "y_train_transformed = y_train.values"
   ]
  },
  {
   "cell_type": "markdown",
   "id": "87c5feeb",
   "metadata": {},
   "source": [
    "### Construire le modèle"
   ]
  },
  {
   "cell_type": "code",
   "execution_count": 367,
   "id": "35f9d36e",
   "metadata": {
    "scrolled": true
   },
   "outputs": [
    {
     "name": "stdout",
     "output_type": "stream",
     "text": [
      "Model: \"sequential_16\"\n",
      "_________________________________________________________________\n",
      " Layer (type)                Output Shape              Param #   \n",
      "=================================================================\n",
      " dense_62 (Dense)            (None, 100)               1200      \n",
      "                                                                 \n",
      " dense_63 (Dense)            (None, 125)               12625     \n",
      "                                                                 \n",
      " dense_64 (Dense)            (None, 150)               18900     \n",
      "                                                                 \n",
      " dense_65 (Dense)            (None, 1)                 151       \n",
      "                                                                 \n",
      "=================================================================\n",
      "Total params: 32,876\n",
      "Trainable params: 32,876\n",
      "Non-trainable params: 0\n",
      "_________________________________________________________________\n"
     ]
    }
   ],
   "source": [
    "classifier = Sequential()\n",
    "classifier.add(Dense(100, kernel_initializer = 'uniform', input_dim = X_train_scaled.shape[1], activation = 'relu'))\n",
    "classifier.add(Dense(125, kernel_initializer = 'uniform', activation = 'relu'))\n",
    "classifier.add(Dense(150, kernel_initializer = 'uniform', activation = 'relu'))\n",
    "classifier.add(Dense(1,   kernel_initializer = 'uniform', activation = 'sigmoid'))\n",
    "\n",
    "classifier.summary()"
   ]
  },
  {
   "cell_type": "markdown",
   "id": "41b0bcdb",
   "metadata": {},
   "source": [
    "### Optimisation du réseau neuronal"
   ]
  },
  {
   "cell_type": "code",
   "execution_count": 368,
   "id": "a372f018",
   "metadata": {},
   "outputs": [],
   "source": [
    "classifier.compile(optimizer='adam', loss = 'binary_crossentropy', metrics = [\"accuracy\"])"
   ]
  },
  {
   "cell_type": "code",
   "execution_count": 369,
   "id": "3b0367b3",
   "metadata": {
    "scrolled": false
   },
   "outputs": [
    {
     "name": "stdout",
     "output_type": "stream",
     "text": [
      "Epoch 1/60\n",
      "121/121 [==============================] - 1s 3ms/step - loss: 0.6755 - accuracy: 0.5612 - val_loss: 0.6644 - val_accuracy: 0.5957\n",
      "Epoch 2/60\n",
      "121/121 [==============================] - 0s 2ms/step - loss: 0.6521 - accuracy: 0.6157 - val_loss: 0.6487 - val_accuracy: 0.6007\n",
      "Epoch 3/60\n",
      "121/121 [==============================] - 0s 2ms/step - loss: 0.6435 - accuracy: 0.6232 - val_loss: 0.6444 - val_accuracy: 0.6256\n",
      "Epoch 4/60\n",
      "121/121 [==============================] - 0s 2ms/step - loss: 0.6347 - accuracy: 0.6332 - val_loss: 0.6390 - val_accuracy: 0.6206\n",
      "Epoch 5/60\n",
      "121/121 [==============================] - 0s 2ms/step - loss: 0.6295 - accuracy: 0.6399 - val_loss: 0.6393 - val_accuracy: 0.6273\n",
      "Epoch 6/60\n",
      "121/121 [==============================] - 0s 2ms/step - loss: 0.6208 - accuracy: 0.6524 - val_loss: 0.6277 - val_accuracy: 0.6439\n",
      "Epoch 7/60\n",
      "121/121 [==============================] - 0s 2ms/step - loss: 0.6195 - accuracy: 0.6565 - val_loss: 0.6297 - val_accuracy: 0.6423\n",
      "Epoch 8/60\n",
      "121/121 [==============================] - 0s 2ms/step - loss: 0.6162 - accuracy: 0.6574 - val_loss: 0.6243 - val_accuracy: 0.6473\n",
      "Epoch 9/60\n",
      "121/121 [==============================] - 0s 2ms/step - loss: 0.6159 - accuracy: 0.6532 - val_loss: 0.6243 - val_accuracy: 0.6323\n",
      "Epoch 10/60\n",
      "121/121 [==============================] - 0s 2ms/step - loss: 0.6075 - accuracy: 0.6736 - val_loss: 0.6140 - val_accuracy: 0.6556\n",
      "Epoch 11/60\n",
      "121/121 [==============================] - 0s 2ms/step - loss: 0.5982 - accuracy: 0.6803 - val_loss: 0.6087 - val_accuracy: 0.6755\n",
      "Epoch 12/60\n",
      "121/121 [==============================] - 0s 2ms/step - loss: 0.6014 - accuracy: 0.6728 - val_loss: 0.6566 - val_accuracy: 0.5957\n",
      "Epoch 13/60\n",
      "121/121 [==============================] - 0s 2ms/step - loss: 0.5960 - accuracy: 0.6857 - val_loss: 0.6100 - val_accuracy: 0.6705\n",
      "Epoch 14/60\n",
      "121/121 [==============================] - 0s 2ms/step - loss: 0.5985 - accuracy: 0.6844 - val_loss: 0.6085 - val_accuracy: 0.6572\n",
      "Epoch 15/60\n",
      "121/121 [==============================] - 0s 2ms/step - loss: 0.5930 - accuracy: 0.6882 - val_loss: 0.6128 - val_accuracy: 0.6656\n",
      "Epoch 16/60\n",
      "121/121 [==============================] - 0s 2ms/step - loss: 0.5919 - accuracy: 0.6898 - val_loss: 0.6084 - val_accuracy: 0.6722\n",
      "Epoch 17/60\n",
      "121/121 [==============================] - 0s 2ms/step - loss: 0.5859 - accuracy: 0.6928 - val_loss: 0.6082 - val_accuracy: 0.6589\n",
      "Epoch 18/60\n",
      "121/121 [==============================] - 0s 2ms/step - loss: 0.5941 - accuracy: 0.6953 - val_loss: 0.6066 - val_accuracy: 0.6805\n",
      "Epoch 19/60\n",
      "121/121 [==============================] - 0s 3ms/step - loss: 0.5833 - accuracy: 0.7019 - val_loss: 0.6186 - val_accuracy: 0.6805\n",
      "Epoch 20/60\n",
      "121/121 [==============================] - 0s 3ms/step - loss: 0.5812 - accuracy: 0.7036 - val_loss: 0.6183 - val_accuracy: 0.6789\n",
      "Epoch 21/60\n",
      "121/121 [==============================] - 0s 3ms/step - loss: 0.5923 - accuracy: 0.6936 - val_loss: 0.5978 - val_accuracy: 0.6722\n",
      "Epoch 22/60\n",
      "121/121 [==============================] - 0s 3ms/step - loss: 0.5897 - accuracy: 0.6986 - val_loss: 0.6130 - val_accuracy: 0.6672\n",
      "Epoch 23/60\n",
      "121/121 [==============================] - 0s 3ms/step - loss: 0.5742 - accuracy: 0.7127 - val_loss: 0.5916 - val_accuracy: 0.6905\n",
      "Epoch 24/60\n",
      "121/121 [==============================] - 0s 3ms/step - loss: 0.5716 - accuracy: 0.7102 - val_loss: 0.5823 - val_accuracy: 0.7022\n",
      "Epoch 25/60\n",
      "121/121 [==============================] - 0s 3ms/step - loss: 0.5678 - accuracy: 0.7231 - val_loss: 0.5906 - val_accuracy: 0.7072\n",
      "Epoch 26/60\n",
      "121/121 [==============================] - 0s 3ms/step - loss: 0.5650 - accuracy: 0.7132 - val_loss: 0.5850 - val_accuracy: 0.7055\n",
      "Epoch 27/60\n",
      "121/121 [==============================] - 0s 2ms/step - loss: 0.5701 - accuracy: 0.7231 - val_loss: 0.5868 - val_accuracy: 0.6988\n",
      "Epoch 28/60\n",
      "121/121 [==============================] - 0s 2ms/step - loss: 0.5724 - accuracy: 0.7186 - val_loss: 0.5875 - val_accuracy: 0.7055\n",
      "Epoch 29/60\n",
      "121/121 [==============================] - 0s 2ms/step - loss: 0.5594 - accuracy: 0.7190 - val_loss: 0.5924 - val_accuracy: 0.6972\n",
      "Epoch 30/60\n",
      "121/121 [==============================] - 0s 2ms/step - loss: 0.5688 - accuracy: 0.7165 - val_loss: 0.5845 - val_accuracy: 0.7055\n",
      "Epoch 31/60\n",
      "121/121 [==============================] - 0s 2ms/step - loss: 0.5605 - accuracy: 0.7294 - val_loss: 0.6179 - val_accuracy: 0.6772\n",
      "Epoch 32/60\n",
      "121/121 [==============================] - 0s 2ms/step - loss: 0.5622 - accuracy: 0.7269 - val_loss: 0.5929 - val_accuracy: 0.6772\n",
      "Epoch 33/60\n",
      "121/121 [==============================] - 0s 2ms/step - loss: 0.5664 - accuracy: 0.7140 - val_loss: 0.5925 - val_accuracy: 0.6905\n",
      "Epoch 34/60\n",
      "121/121 [==============================] - 0s 2ms/step - loss: 0.5552 - accuracy: 0.7256 - val_loss: 0.5881 - val_accuracy: 0.6889\n",
      "Epoch 35/60\n",
      "121/121 [==============================] - 0s 2ms/step - loss: 0.5525 - accuracy: 0.7306 - val_loss: 0.5833 - val_accuracy: 0.6889\n",
      "Epoch 36/60\n",
      "121/121 [==============================] - 0s 2ms/step - loss: 0.5581 - accuracy: 0.7165 - val_loss: 0.5903 - val_accuracy: 0.6988\n",
      "Epoch 37/60\n",
      "121/121 [==============================] - 0s 2ms/step - loss: 0.5605 - accuracy: 0.7177 - val_loss: 0.5866 - val_accuracy: 0.7022\n",
      "Epoch 38/60\n",
      "121/121 [==============================] - 0s 2ms/step - loss: 0.5494 - accuracy: 0.7319 - val_loss: 0.5871 - val_accuracy: 0.7005\n",
      "Epoch 39/60\n",
      "121/121 [==============================] - 0s 2ms/step - loss: 0.5472 - accuracy: 0.7298 - val_loss: 0.5826 - val_accuracy: 0.7038\n",
      "Epoch 40/60\n",
      "121/121 [==============================] - 0s 2ms/step - loss: 0.5465 - accuracy: 0.7352 - val_loss: 0.5783 - val_accuracy: 0.7038\n",
      "Epoch 41/60\n",
      "121/121 [==============================] - 0s 2ms/step - loss: 0.5431 - accuracy: 0.7261 - val_loss: 0.5866 - val_accuracy: 0.7088\n",
      "Epoch 42/60\n",
      "121/121 [==============================] - 0s 2ms/step - loss: 0.5436 - accuracy: 0.7319 - val_loss: 0.5953 - val_accuracy: 0.6839\n",
      "Epoch 43/60\n",
      "121/121 [==============================] - 0s 2ms/step - loss: 0.5437 - accuracy: 0.7281 - val_loss: 0.6255 - val_accuracy: 0.6539\n",
      "Epoch 44/60\n",
      "121/121 [==============================] - 0s 2ms/step - loss: 0.5488 - accuracy: 0.7202 - val_loss: 0.5753 - val_accuracy: 0.7088\n",
      "Epoch 45/60\n",
      "121/121 [==============================] - 0s 2ms/step - loss: 0.5352 - accuracy: 0.7365 - val_loss: 0.5876 - val_accuracy: 0.6972\n",
      "Epoch 46/60\n",
      "121/121 [==============================] - 0s 3ms/step - loss: 0.5387 - accuracy: 0.7348 - val_loss: 0.5947 - val_accuracy: 0.7105\n",
      "Epoch 47/60\n",
      "121/121 [==============================] - 0s 3ms/step - loss: 0.5490 - accuracy: 0.7269 - val_loss: 0.5790 - val_accuracy: 0.7072\n",
      "Epoch 48/60\n",
      "121/121 [==============================] - 0s 2ms/step - loss: 0.5386 - accuracy: 0.7256 - val_loss: 0.5826 - val_accuracy: 0.7072\n",
      "Epoch 49/60\n",
      "121/121 [==============================] - 0s 2ms/step - loss: 0.5380 - accuracy: 0.7302 - val_loss: 0.6203 - val_accuracy: 0.6889\n",
      "Epoch 50/60\n",
      "121/121 [==============================] - 0s 2ms/step - loss: 0.5362 - accuracy: 0.7302 - val_loss: 0.5918 - val_accuracy: 0.7121\n",
      "Epoch 51/60\n",
      "121/121 [==============================] - 0s 2ms/step - loss: 0.5333 - accuracy: 0.7369 - val_loss: 0.5760 - val_accuracy: 0.7121\n",
      "Epoch 52/60\n",
      "121/121 [==============================] - 0s 2ms/step - loss: 0.5430 - accuracy: 0.7265 - val_loss: 0.5836 - val_accuracy: 0.7105\n",
      "Epoch 53/60\n",
      "121/121 [==============================] - 0s 2ms/step - loss: 0.5329 - accuracy: 0.7406 - val_loss: 0.6137 - val_accuracy: 0.6705\n",
      "Epoch 54/60\n",
      "121/121 [==============================] - 0s 2ms/step - loss: 0.5310 - accuracy: 0.7348 - val_loss: 0.6111 - val_accuracy: 0.6722\n",
      "Epoch 55/60\n",
      "121/121 [==============================] - 0s 2ms/step - loss: 0.5342 - accuracy: 0.7352 - val_loss: 0.5775 - val_accuracy: 0.7072\n",
      "Epoch 56/60\n",
      "121/121 [==============================] - 0s 2ms/step - loss: 0.5256 - accuracy: 0.7398 - val_loss: 0.5873 - val_accuracy: 0.6889\n",
      "Epoch 57/60\n",
      "121/121 [==============================] - 0s 2ms/step - loss: 0.5420 - accuracy: 0.7236 - val_loss: 0.5869 - val_accuracy: 0.6955\n",
      "Epoch 58/60\n"
     ]
    },
    {
     "name": "stdout",
     "output_type": "stream",
     "text": [
      "121/121 [==============================] - 0s 2ms/step - loss: 0.5301 - accuracy: 0.7365 - val_loss: 0.5844 - val_accuracy: 0.7038\n",
      "Epoch 59/60\n",
      "121/121 [==============================] - 0s 2ms/step - loss: 0.5240 - accuracy: 0.7415 - val_loss: 0.5771 - val_accuracy: 0.7072\n",
      "Epoch 60/60\n",
      "121/121 [==============================] - 0s 2ms/step - loss: 0.5203 - accuracy: 0.7419 - val_loss: 0.5772 - val_accuracy: 0.7072\n"
     ]
    }
   ],
   "source": [
    "epochs_history = classifier.fit(\n",
    "    x = X_train_scaled,\n",
    "    y = y_train_transformed,\n",
    "    batch_size = 20,\n",
    "    epochs = 60,\n",
    "    validation_split = 0.2\n",
    ")"
   ]
  },
  {
   "cell_type": "code",
   "execution_count": 370,
   "id": "4902deac",
   "metadata": {},
   "outputs": [
    {
     "data": {
      "text/plain": [
       "dict_keys(['loss', 'accuracy', 'val_loss', 'val_accuracy'])"
      ]
     },
     "execution_count": 370,
     "metadata": {},
     "output_type": "execute_result"
    }
   ],
   "source": [
    "# Evaluation du modèle\n",
    "epochs_history.history.keys()"
   ]
  },
  {
   "cell_type": "markdown",
   "id": "b6e39f4a",
   "metadata": {},
   "source": [
    "### Tracer le modèle"
   ]
  },
  {
   "cell_type": "code",
   "execution_count": 371,
   "id": "88f6500e",
   "metadata": {
    "scrolled": false
   },
   "outputs": [
    {
     "data": {
      "image/png": "[encoded data removed]",
      "text/plain": [
       "<Figure size 640x480 with 1 Axes>"
      ]
     },
     "metadata": {},
     "output_type": "display_data"
    }
   ],
   "source": [
    "plt.plot(epochs_history.history[\"loss\"])\n",
    "plt.plot(epochs_history.history[\"val_loss\"])\n",
    "plt.title(\"Classifier Loss Progress During Training\")\n",
    "plt.xlabel(\"Epoch Number\")\n",
    "plt.ylabel(\"Training And Validation Loss\")\n",
    "plt.legend([\"Training Loss\",\"Validation Loss\"])\n",
    "plt.show()"
   ]
  },
  {
   "cell_type": "code",
   "execution_count": 372,
   "id": "293182cf",
   "metadata": {},
   "outputs": [
    {
     "name": "stdout",
     "output_type": "stream",
     "text": [
      "24/24 [==============================] - 0s 1ms/step\n",
      "Accuracy : 50.2 %\n"
     ]
    }
   ],
   "source": [
    "# Déterminer le accurary score du test\n",
    "y_pred = (classifier.predict(X_test) > 0.5).astype(int)\n",
    "\n",
    "aScoreYTst = confusion_matrix(y_test, y_pred.round())\n",
    "\n",
    "percentAccuracyTest = (accuracy_score(y_test, y_pred.round())).round(3)\n",
    "\n",
    "print(\"Accuracy : {} %\".format(100 * percentAccuracyTest ))"
   ]
  },
  {
   "cell_type": "code",
   "execution_count": 373,
   "id": "535538fe",
   "metadata": {},
   "outputs": [
    {
     "data": {
      "image/png": "[encoded data removed]",
      "text/plain": [
       "<Figure size 1000x800 with 2 Axes>"
      ]
     },
     "metadata": {},
     "output_type": "display_data"
    }
   ],
   "source": [
    "# HeatMap pour visualiser la matrice de confusion\n",
    "plt.figure(figsize = (10, 8))\n",
    "sns.heatmap(aScoreYTst, annot = True, linewidths = 5, cmap = \"tab10\", fmt = \"g\")\n",
    "plt.title(\"Heatmap Confusion Matrix Y Test\", fontsize = 20)\n",
    "plt.show()"
   ]
  },
  {
   "cell_type": "code",
   "execution_count": 374,
   "id": "fd8a752c",
   "metadata": {
    "scrolled": false
   },
   "outputs": [
    {
     "name": "stdout",
     "output_type": "stream",
     "text": [
      "              precision    recall  f1-score   support\n",
      "\n",
      "           0       0.60      0.02      0.03       376\n",
      "           1       0.50      0.99      0.66       375\n",
      "\n",
      "    accuracy                           0.50       751\n",
      "   macro avg       0.55      0.50      0.35       751\n",
      "weighted avg       0.55      0.50      0.35       751\n",
      "\n"
     ]
    }
   ],
   "source": [
    "# Rapport de Classification\n",
    "classReport = classification_report(y_test, y_pred)\n",
    "print(classReport)"
   ]
  },
  {
   "cell_type": "code",
   "execution_count": 375,
   "id": "74ee7a0c",
   "metadata": {},
   "outputs": [
    {
     "data": {
      "text/html": [
       "<div>\n",
       "<style scoped>\n",
       "    .dataframe tbody tr th:only-of-type {\n",
       "        vertical-align: middle;\n",
       "    }\n",
       "\n",
       "    .dataframe tbody tr th {\n",
       "        vertical-align: top;\n",
       "    }\n",
       "\n",
       "    .dataframe thead th {\n",
       "        text-align: right;\n",
       "    }\n",
       "</style>\n",
       "<table border=\"1\" class=\"dataframe\">\n",
       "  <thead>\n",
       "    <tr style=\"text-align: right;\">\n",
       "      <th></th>\n",
       "      <th>id</th>\n",
       "      <th>cardio</th>\n",
       "      <th>Predicted Cardio</th>\n",
       "    </tr>\n",
       "  </thead>\n",
       "  <tbody>\n",
       "    <tr>\n",
       "      <th>0</th>\n",
       "      <td>3549</td>\n",
       "      <td>1.0</td>\n",
       "      <td>1</td>\n",
       "    </tr>\n",
       "    <tr>\n",
       "      <th>1</th>\n",
       "      <td>2493</td>\n",
       "      <td>1.0</td>\n",
       "      <td>1</td>\n",
       "    </tr>\n",
       "    <tr>\n",
       "      <th>2</th>\n",
       "      <td>4111</td>\n",
       "      <td>0.0</td>\n",
       "      <td>1</td>\n",
       "    </tr>\n",
       "    <tr>\n",
       "      <th>3</th>\n",
       "      <td>1477</td>\n",
       "      <td>0.0</td>\n",
       "      <td>1</td>\n",
       "    </tr>\n",
       "    <tr>\n",
       "      <th>4</th>\n",
       "      <td>3701</td>\n",
       "      <td>1.0</td>\n",
       "      <td>1</td>\n",
       "    </tr>\n",
       "    <tr>\n",
       "      <th>...</th>\n",
       "      <td>...</td>\n",
       "      <td>...</td>\n",
       "      <td>...</td>\n",
       "    </tr>\n",
       "    <tr>\n",
       "      <th>746</th>\n",
       "      <td>1752</td>\n",
       "      <td>1.0</td>\n",
       "      <td>1</td>\n",
       "    </tr>\n",
       "    <tr>\n",
       "      <th>747</th>\n",
       "      <td>3557</td>\n",
       "      <td>0.0</td>\n",
       "      <td>0</td>\n",
       "    </tr>\n",
       "    <tr>\n",
       "      <th>748</th>\n",
       "      <td>1177</td>\n",
       "      <td>1.0</td>\n",
       "      <td>1</td>\n",
       "    </tr>\n",
       "    <tr>\n",
       "      <th>749</th>\n",
       "      <td>2504</td>\n",
       "      <td>0.0</td>\n",
       "      <td>1</td>\n",
       "    </tr>\n",
       "    <tr>\n",
       "      <th>750</th>\n",
       "      <td>2148</td>\n",
       "      <td>1.0</td>\n",
       "      <td>1</td>\n",
       "    </tr>\n",
       "  </tbody>\n",
       "</table>\n",
       "<p>751 rows × 3 columns</p>\n",
       "</div>"
      ],
      "text/plain": [
       "       id  cardio  Predicted Cardio\n",
       "0    3549     1.0                 1\n",
       "1    2493     1.0                 1\n",
       "2    4111     0.0                 1\n",
       "3    1477     0.0                 1\n",
       "4    3701     1.0                 1\n",
       "..    ...     ...               ...\n",
       "746  1752     1.0                 1\n",
       "747  3557     0.0                 0\n",
       "748  1177     1.0                 1\n",
       "749  2504     0.0                 1\n",
       "750  2148     1.0                 1\n",
       "\n",
       "[751 rows x 3 columns]"
      ]
     },
     "execution_count": 375,
     "metadata": {},
     "output_type": "execute_result"
    }
   ],
   "source": [
    "# Résultat Final\n",
    "final_results = pd.concat([y_test, user_identifier], axis = 1).dropna()\n",
    "final_results['Predicted Cardio'] = y_pred\n",
    "final_results = final_results[['id', 'cardio', 'Predicted Cardio']].reset_index(drop = True)\n",
    "final_results"
   ]
  },
  {
   "cell_type": "markdown",
   "id": "40b15b85",
   "metadata": {},
   "source": [
    "### Tester le modele"
   ]
  },
  {
   "cell_type": "code",
   "execution_count": 376,
   "id": "0b0bd8be",
   "metadata": {
    "scrolled": true
   },
   "outputs": [
    {
     "name": "stdout",
     "output_type": "stream",
     "text": [
      "1/1 [==============================] - 0s 62ms/step\n"
     ]
    }
   ],
   "source": [
    "data = np.array([[2, 194, 96, 120, 80, 1, 1, 0, 1, 1, 23]])\n",
    "prediction = classifier.predict(data)"
   ]
  },
  {
   "cell_type": "code",
   "execution_count": 378,
   "id": "2986a4fc",
   "metadata": {
    "scrolled": true
   },
   "outputs": [
    {
     "name": "stdout",
     "output_type": "stream",
     "text": [
      "Risque d'accident cardiovasculaire\n"
     ]
    }
   ],
   "source": [
    "if prediction[0][0] > 0.5:\n",
    "    print('Risque d\\'accident cardiovasculaire')\n",
    "else:\n",
    "    print('Aucun risque d\\'accident cardiovasculaire')"
   ]
  }
 ],
 "metadata": {
  "kernelspec": {
   "display_name": "Python 3 (ipykernel)",
   "language": "python",
   "name": "python3"
  },
  "language_info": {
   "codemirror_mode": {
    "name": "ipython",
    "version": 3
   },
   "file_extension": ".py",
   "mimetype": "text/x-python",
   "name": "python",
   "nbconvert_exporter": "python",
   "pygments_lexer": "ipython3",
   "version": "3.10.6"
  }
 },
 "nbformat": 4,
 "nbformat_minor": 5
}
