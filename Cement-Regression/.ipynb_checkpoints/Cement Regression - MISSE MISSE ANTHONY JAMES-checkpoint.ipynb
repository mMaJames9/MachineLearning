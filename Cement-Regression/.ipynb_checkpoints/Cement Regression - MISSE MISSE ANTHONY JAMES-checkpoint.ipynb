{
 "cells": [
  {
   "cell_type": "markdown",
   "id": "d3295676",
   "metadata": {},
   "source": [
    "# CEMENT REGRESSION"
   ]
  },
  {
   "cell_type": "code",
   "execution_count": 1,
   "id": "bffc2e99",
   "metadata": {},
   "outputs": [
    {
     "name": "stdout",
     "output_type": "stream",
     "text": [
      "You are working with 1 core(s)\n"
     ]
    },
    {
     "data": {
      "text/html": [
       "\n",
       "            <div>\n",
       "                <p><b>SparkSession - in-memory</b></p>\n",
       "                \n",
       "        <div>\n",
       "            <p><b>SparkContext</b></p>\n",
       "\n",
       "            <p><a href=\"http://DESKTOP-K5FG320:4040\">Spark UI</a></p>\n",
       "\n",
       "            <dl>\n",
       "              <dt>Version</dt>\n",
       "                <dd><code>v3.3.1</code></dd>\n",
       "              <dt>Master</dt>\n",
       "                <dd><code>local[*]</code></dd>\n",
       "              <dt>AppName</dt>\n",
       "                <dd><code>Cement Regression</code></dd>\n",
       "            </dl>\n",
       "        </div>\n",
       "        \n",
       "            </div>\n",
       "        "
      ],
      "text/plain": [
       "<pyspark.sql.session.SparkSession at 0x19a4c0cfbb0>"
      ]
     },
     "execution_count": 1,
     "metadata": {},
     "output_type": "execute_result"
    }
   ],
   "source": [
    "import findspark\n",
    "findspark.init()\n",
    "\n",
    "import pyspark\n",
    "from pyspark.sql import SparkSession\n",
    "\n",
    "spark = SparkSession.builder.appName(\"Cement Regression\").getOrCreate()\n",
    "\n",
    "cores = spark._jsc.sc().getExecutorMemoryStatus().keySet().size()\n",
    "print(\"You are working with\", cores, \"core(s)\")\n",
    "spark"
   ]
  },
  {
   "cell_type": "markdown",
   "id": "d74a490b",
   "metadata": {},
   "source": [
    "### Import the dataset and others librairies"
   ]
  },
  {
   "cell_type": "code",
   "execution_count": 2,
   "id": "3ecd21af",
   "metadata": {},
   "outputs": [],
   "source": [
    "# Dataset\n",
    "df = spark.read.csv('Concrete_Data_Yeh.csv', inferSchema = True, header = True)\n",
    "\n",
    "# Librairies\n",
    "import pandas as pd\n",
    "\n",
    "from pyspark.ml.feature import VectorAssembler\n",
    "from pyspark.ml.evaluation import RegressionEvaluator\n",
    "\n",
    "from pyspark.sql.types import * \n",
    "from pyspark.sql.functions import *\n",
    "\n",
    "from pyspark.ml.regression import *"
   ]
  },
  {
   "cell_type": "markdown",
   "id": "a4bc43b6",
   "metadata": {},
   "source": [
    "### Data Preparation"
   ]
  },
  {
   "cell_type": "code",
   "execution_count": 3,
   "id": "7a2362be",
   "metadata": {},
   "outputs": [
    {
     "data": {
      "text/html": [
       "<div>\n",
       "<style scoped>\n",
       "    .dataframe tbody tr th:only-of-type {\n",
       "        vertical-align: middle;\n",
       "    }\n",
       "\n",
       "    .dataframe tbody tr th {\n",
       "        vertical-align: top;\n",
       "    }\n",
       "\n",
       "    .dataframe thead th {\n",
       "        text-align: right;\n",
       "    }\n",
       "</style>\n",
       "<table border=\"1\" class=\"dataframe\">\n",
       "  <thead>\n",
       "    <tr style=\"text-align: right;\">\n",
       "      <th></th>\n",
       "      <th>cement</th>\n",
       "      <th>slag</th>\n",
       "      <th>flyash</th>\n",
       "      <th>water</th>\n",
       "      <th>superplasticizer</th>\n",
       "      <th>coarseaggregate</th>\n",
       "      <th>fineaggregate</th>\n",
       "      <th>age</th>\n",
       "      <th>csMPa</th>\n",
       "    </tr>\n",
       "  </thead>\n",
       "  <tbody>\n",
       "    <tr>\n",
       "      <th>0</th>\n",
       "      <td>540.0</td>\n",
       "      <td>0.0</td>\n",
       "      <td>0.0</td>\n",
       "      <td>162.0</td>\n",
       "      <td>2.5</td>\n",
       "      <td>1040.0</td>\n",
       "      <td>676.0</td>\n",
       "      <td>28</td>\n",
       "      <td>79.99</td>\n",
       "    </tr>\n",
       "    <tr>\n",
       "      <th>1</th>\n",
       "      <td>540.0</td>\n",
       "      <td>0.0</td>\n",
       "      <td>0.0</td>\n",
       "      <td>162.0</td>\n",
       "      <td>2.5</td>\n",
       "      <td>1055.0</td>\n",
       "      <td>676.0</td>\n",
       "      <td>28</td>\n",
       "      <td>61.89</td>\n",
       "    </tr>\n",
       "    <tr>\n",
       "      <th>2</th>\n",
       "      <td>332.5</td>\n",
       "      <td>142.5</td>\n",
       "      <td>0.0</td>\n",
       "      <td>228.0</td>\n",
       "      <td>0.0</td>\n",
       "      <td>932.0</td>\n",
       "      <td>594.0</td>\n",
       "      <td>270</td>\n",
       "      <td>40.27</td>\n",
       "    </tr>\n",
       "    <tr>\n",
       "      <th>3</th>\n",
       "      <td>332.5</td>\n",
       "      <td>142.5</td>\n",
       "      <td>0.0</td>\n",
       "      <td>228.0</td>\n",
       "      <td>0.0</td>\n",
       "      <td>932.0</td>\n",
       "      <td>594.0</td>\n",
       "      <td>365</td>\n",
       "      <td>41.05</td>\n",
       "    </tr>\n",
       "    <tr>\n",
       "      <th>4</th>\n",
       "      <td>198.6</td>\n",
       "      <td>132.4</td>\n",
       "      <td>0.0</td>\n",
       "      <td>192.0</td>\n",
       "      <td>0.0</td>\n",
       "      <td>978.4</td>\n",
       "      <td>825.5</td>\n",
       "      <td>360</td>\n",
       "      <td>44.30</td>\n",
       "    </tr>\n",
       "  </tbody>\n",
       "</table>\n",
       "</div>"
      ],
      "text/plain": [
       "   cement   slag  flyash  water  superplasticizer  coarseaggregate  \\\n",
       "0   540.0    0.0     0.0  162.0               2.5           1040.0   \n",
       "1   540.0    0.0     0.0  162.0               2.5           1055.0   \n",
       "2   332.5  142.5     0.0  228.0               0.0            932.0   \n",
       "3   332.5  142.5     0.0  228.0               0.0            932.0   \n",
       "4   198.6  132.4     0.0  192.0               0.0            978.4   \n",
       "\n",
       "   fineaggregate  age  csMPa  \n",
       "0          676.0   28  79.99  \n",
       "1          676.0   28  61.89  \n",
       "2          594.0  270  40.27  \n",
       "3          594.0  365  41.05  \n",
       "4          825.5  360  44.30  "
      ]
     },
     "execution_count": 3,
     "metadata": {},
     "output_type": "execute_result"
    }
   ],
   "source": [
    "pd.DataFrame(df.take(5), columns = df.columns)"
   ]
  },
  {
   "cell_type": "code",
   "execution_count": 4,
   "id": "8f452f06",
   "metadata": {},
   "outputs": [
    {
     "name": "stdout",
     "output_type": "stream",
     "text": [
      "root\n",
      " |-- cement: double (nullable = true)\n",
      " |-- slag: double (nullable = true)\n",
      " |-- flyash: double (nullable = true)\n",
      " |-- water: double (nullable = true)\n",
      " |-- superplasticizer: double (nullable = true)\n",
      " |-- coarseaggregate: double (nullable = true)\n",
      " |-- fineaggregate: double (nullable = true)\n",
      " |-- age: integer (nullable = true)\n",
      " |-- csMPa: double (nullable = true)\n",
      "\n"
     ]
    }
   ],
   "source": [
    "df.printSchema()"
   ]
  },
  {
   "cell_type": "code",
   "execution_count": 5,
   "id": "d5552607",
   "metadata": {},
   "outputs": [
    {
     "data": {
      "text/plain": [
       "['cement',\n",
       " 'slag',\n",
       " 'flyash',\n",
       " 'water',\n",
       " 'superplasticizer',\n",
       " 'coarseaggregate',\n",
       " 'fineaggregate',\n",
       " 'age',\n",
       " 'csMPa']"
      ]
     },
     "execution_count": 5,
     "metadata": {},
     "output_type": "execute_result"
    }
   ],
   "source": [
    "df.columns"
   ]
  },
  {
   "cell_type": "code",
   "execution_count": 6,
   "id": "640f876a",
   "metadata": {},
   "outputs": [
    {
     "data": {
      "text/html": [
       "<div>\n",
       "<style scoped>\n",
       "    .dataframe tbody tr th:only-of-type {\n",
       "        vertical-align: middle;\n",
       "    }\n",
       "\n",
       "    .dataframe tbody tr th {\n",
       "        vertical-align: top;\n",
       "    }\n",
       "\n",
       "    .dataframe thead th {\n",
       "        text-align: right;\n",
       "    }\n",
       "</style>\n",
       "<table border=\"1\" class=\"dataframe\">\n",
       "  <thead>\n",
       "    <tr style=\"text-align: right;\">\n",
       "      <th></th>\n",
       "      <th>cement</th>\n",
       "      <th>slag</th>\n",
       "      <th>flyash</th>\n",
       "      <th>water</th>\n",
       "      <th>superplasticizer</th>\n",
       "      <th>coarseaggregate</th>\n",
       "      <th>fineaggregate</th>\n",
       "      <th>age</th>\n",
       "      <th>csMPa</th>\n",
       "    </tr>\n",
       "  </thead>\n",
       "  <tbody>\n",
       "    <tr>\n",
       "      <th>0</th>\n",
       "      <td>0</td>\n",
       "      <td>0</td>\n",
       "      <td>0</td>\n",
       "      <td>0</td>\n",
       "      <td>0</td>\n",
       "      <td>0</td>\n",
       "      <td>0</td>\n",
       "      <td>0</td>\n",
       "      <td>0</td>\n",
       "    </tr>\n",
       "  </tbody>\n",
       "</table>\n",
       "</div>"
      ],
      "text/plain": [
       "   cement  slag  flyash  water  superplasticizer  coarseaggregate  \\\n",
       "0       0     0       0      0                 0                0   \n",
       "\n",
       "   fineaggregate  age  csMPa  \n",
       "0              0    0      0  "
      ]
     },
     "execution_count": 6,
     "metadata": {},
     "output_type": "execute_result"
    }
   ],
   "source": [
    "# Find Count of Null, None, NaN of All DataFrame Columns\n",
    "df.select([count(when(isnan(c) | col(c).isNull(), c)).alias(c) for c in df.columns]).toPandas()"
   ]
  },
  {
   "cell_type": "code",
   "execution_count": 7,
   "id": "899cdafe",
   "metadata": {},
   "outputs": [
    {
     "data": {
      "text/plain": [
       "1030"
      ]
     },
     "execution_count": 7,
     "metadata": {},
     "output_type": "execute_result"
    }
   ],
   "source": [
    "#enlever na\n",
    "df = df.na.drop()\n",
    "df.count()"
   ]
  },
  {
   "cell_type": "code",
   "execution_count": 8,
   "id": "aa538079",
   "metadata": {},
   "outputs": [
    {
     "name": "stdout",
     "output_type": "stream",
     "text": [
      "Correlation to csMPa for  cement 0.49783191932415516\n",
      "Correlation to csMPa for  slag 0.13482926149740534\n",
      "Correlation to csMPa for  flyash -0.10575491629731447\n",
      "Correlation to csMPa for  water -0.28963338498530294\n",
      "Correlation to csMPa for  superplasticizer 0.3660788271885191\n",
      "Correlation to csMPa for  coarseaggregate -0.16493461446011204\n",
      "Correlation to csMPa for  fineaggregate -0.16724124729005896\n",
      "Correlation to csMPa for  age 0.3288730007799873\n",
      "Correlation to csMPa for  csMPa 1.0\n"
     ]
    }
   ],
   "source": [
    "#Correlation\n",
    "import six\n",
    "for i in df.columns:\n",
    "    if not( isinstance(df.select(i).take(1)[0][0], six.string_types)):\n",
    "        print( \"Correlation to csMPa for \", i, df.stat.corr('csMPa', i))"
   ]
  },
  {
   "cell_type": "markdown",
   "id": "55b71cc7",
   "metadata": {},
   "source": [
    "### Invoking VectorAssembler for grouping the required features"
   ]
  },
  {
   "cell_type": "code",
   "execution_count": 9,
   "id": "b5896979",
   "metadata": {},
   "outputs": [],
   "source": [
    "featureassembler = VectorAssembler(\n",
    "    inputCols = [\n",
    "        'cement',\n",
    "        'slag',\n",
    "        'flyash',\n",
    "        'water',\n",
    "        'superplasticizer',\n",
    "        'coarseaggregate',\n",
    "        'fineaggregate',\n",
    "        'age',\n",
    "        'csMPa'\n",
    "    ],\n",
    "    outputCol = 'Independant Features'\n",
    ")"
   ]
  },
  {
   "cell_type": "code",
   "execution_count": 10,
   "id": "e47899cc",
   "metadata": {},
   "outputs": [
    {
     "data": {
      "text/plain": [
       "['cement',\n",
       " 'slag',\n",
       " 'flyash',\n",
       " 'water',\n",
       " 'superplasticizer',\n",
       " 'coarseaggregate',\n",
       " 'fineaggregate',\n",
       " 'age',\n",
       " 'csMPa',\n",
       " 'Independant Features']"
      ]
     },
     "execution_count": 10,
     "metadata": {},
     "output_type": "execute_result"
    }
   ],
   "source": [
    "output = featureassembler.transform(df)\n",
    "output.columns"
   ]
  },
  {
   "cell_type": "markdown",
   "id": "2ce92a39",
   "metadata": {},
   "source": [
    "### Create the final output with the desired target variable"
   ]
  },
  {
   "cell_type": "code",
   "execution_count": 11,
   "id": "be7a1395",
   "metadata": {},
   "outputs": [
    {
     "name": "stdout",
     "output_type": "stream",
     "text": [
      "+---------------------------------------------------+-----+\n",
      "|Independant Features                               |csMPa|\n",
      "+---------------------------------------------------+-----+\n",
      "|[540.0,0.0,0.0,162.0,2.5,1040.0,676.0,28.0,79.99]  |79.99|\n",
      "|[540.0,0.0,0.0,162.0,2.5,1055.0,676.0,28.0,61.89]  |61.89|\n",
      "|[332.5,142.5,0.0,228.0,0.0,932.0,594.0,270.0,40.27]|40.27|\n",
      "|[332.5,142.5,0.0,228.0,0.0,932.0,594.0,365.0,41.05]|41.05|\n",
      "|[198.6,132.4,0.0,192.0,0.0,978.4,825.5,360.0,44.3] |44.3 |\n",
      "|[266.0,114.0,0.0,228.0,0.0,932.0,670.0,90.0,47.03] |47.03|\n",
      "|[380.0,95.0,0.0,228.0,0.0,932.0,594.0,365.0,43.7]  |43.7 |\n",
      "|[380.0,95.0,0.0,228.0,0.0,932.0,594.0,28.0,36.45]  |36.45|\n",
      "|[266.0,114.0,0.0,228.0,0.0,932.0,670.0,28.0,45.85] |45.85|\n",
      "|[475.0,0.0,0.0,228.0,0.0,932.0,594.0,28.0,39.29]   |39.29|\n",
      "+---------------------------------------------------+-----+\n",
      "only showing top 10 rows\n",
      "\n"
     ]
    }
   ],
   "source": [
    "fin_output = output.select(\"Independant Features\", \"csMPa\")\n",
    "fin_output.show(10, False)"
   ]
  },
  {
   "cell_type": "markdown",
   "id": "cb1977c4",
   "metadata": {},
   "source": [
    "### Baseline Model Training using Linear Regression"
   ]
  },
  {
   "cell_type": "code",
   "execution_count": 12,
   "id": "cd14b40b",
   "metadata": {},
   "outputs": [],
   "source": [
    "X_train, X_test = fin_output.randomSplit([0.8, 0.2])\n",
    "\n",
    "lr = LinearRegression(featuresCol = 'Independant Features',\n",
    "                      labelCol = 'csMPa',\n",
    "                      maxIter = 10,\n",
    "                      regParam = 0.2,\n",
    "                      elasticNetParam = 0.8\n",
    "                     )\n",
    "\n",
    "lr_model = lr.fit(X_train)"
   ]
  },
  {
   "cell_type": "code",
   "execution_count": 13,
   "id": "6b4874c7",
   "metadata": {},
   "outputs": [
    {
     "name": "stdout",
     "output_type": "stream",
     "text": [
      "Coefficients: [0.0,0.0,0.0,0.0,0.0,0.0,0.0,0.0,0.9875853067658231]\n"
     ]
    }
   ],
   "source": [
    "# Getting the set of coefficients and intercepsts.\n",
    "print(\"Coefficients: \" + str(lr_model.coefficients))"
   ]
  },
  {
   "cell_type": "code",
   "execution_count": 14,
   "id": "890ffd96",
   "metadata": {},
   "outputs": [
    {
     "name": "stdout",
     "output_type": "stream",
     "text": [
      "Intercept: 0.4422836554289763\n"
     ]
    }
   ],
   "source": [
    "print(\"Intercept: \" + str(lr_model.intercept))"
   ]
  },
  {
   "cell_type": "markdown",
   "id": "3048ed4e",
   "metadata": {},
   "source": [
    "### Summarize the model"
   ]
  },
  {
   "cell_type": "code",
   "execution_count": 15,
   "id": "c9c2efca",
   "metadata": {},
   "outputs": [
    {
     "name": "stdout",
     "output_type": "stream",
     "text": [
      "RMSE: 0.207754\n",
      "r2: 0.999846\n"
     ]
    }
   ],
   "source": [
    "trainingSummary = lr_model.summary\n",
    "\n",
    "print(\"RMSE: %f\" % trainingSummary.rootMeanSquaredError)\n",
    "print(\"r2: %f\" % trainingSummary.r2)"
   ]
  },
  {
   "cell_type": "code",
   "execution_count": 16,
   "id": "73982716",
   "metadata": {},
   "outputs": [
    {
     "name": "stdout",
     "output_type": "stream",
     "text": [
      "+-------+------------------+\n",
      "|summary|             csMPa|\n",
      "+-------+------------------+\n",
      "|  count|               833|\n",
      "|   mean| 35.62582232893156|\n",
      "| stddev|16.744613322335912|\n",
      "|    min|              2.33|\n",
      "|    max|             81.75|\n",
      "+-------+------------------+\n",
      "\n"
     ]
    }
   ],
   "source": [
    "# Description of the training\n",
    "X_train.describe().show()"
   ]
  },
  {
   "cell_type": "markdown",
   "id": "b465125d",
   "metadata": {},
   "source": [
    "### Model Evaluation"
   ]
  },
  {
   "cell_type": "code",
   "execution_count": 17,
   "id": "4d9b9ca3",
   "metadata": {},
   "outputs": [
    {
     "name": "stdout",
     "output_type": "stream",
     "text": [
      "+-----------------------------------------------------+-----+------------------+\n",
      "|Independant Features                                 |csMPa|prediction        |\n",
      "+-----------------------------------------------------+-----+------------------+\n",
      "|[102.0,153.0,0.0,192.0,0.0,887.0,942.0,7.0,7.68]     |7.68 |8.026938811390497 |\n",
      "|[108.3,162.4,0.0,203.5,0.0,938.2,849.0,28.0,20.59]   |20.59|20.776665121737274|\n",
      "|[116.0,173.0,0.0,192.0,0.0,909.8,891.9,90.0,31.02]   |31.02|31.07717987130481 |\n",
      "|[122.6,183.9,0.0,203.5,0.0,958.2,800.1,90.0,33.19]   |33.19|33.22023998698664 |\n",
      "|[135.0,105.0,193.0,196.0,6.0,965.0,643.0,28.0,21.91] |21.91|22.08027772666816 |\n",
      "|[135.7,203.5,0.0,185.7,0.0,1076.2,759.3,28.0,18.2]   |18.2 |18.416336238566956|\n",
      "|[136.4,161.6,125.8,171.6,10.4,922.6,764.4,28.0,29.07]|29.07|29.151388523111454|\n",
      "|[139.6,209.4,0.0,192.0,0.0,1047.0,806.9,360.0,44.7]  |44.7 |44.58734686786127 |\n",
      "|[139.9,132.6,103.3,200.3,7.4,916.0,753.4,28.0,36.44] |36.44|36.429892233975565|\n",
      "|[140.0,133.0,103.0,200.0,7.0,916.0,753.0,28.0,36.44] |36.44|36.429892233975565|\n",
      "+-----------------------------------------------------+-----+------------------+\n",
      "only showing top 10 rows\n",
      "\n",
      "R Squared (R2) on test data = 0.999845\n"
     ]
    }
   ],
   "source": [
    "lr_predictions = lr_model.transform(X_test)\n",
    "lr_predictions.select(\"Independant Features\", \"csMPa\", \"prediction\").show(10, False)\n",
    "\n",
    "lr_evaluator = RegressionEvaluator(predictionCol = \"prediction\", labelCol = \"csMPa\", metricName = \"r2\")\n",
    "\n",
    "print(\"R Squared (R2) on test data = %g\" % lr_evaluator.evaluate(lr_predictions))"
   ]
  },
  {
   "cell_type": "code",
   "execution_count": 18,
   "id": "dee6dd07",
   "metadata": {},
   "outputs": [
    {
     "name": "stdout",
     "output_type": "stream",
     "text": [
      "Root Mean Squared Error (RMSE) on test data = 0.205418\n"
     ]
    }
   ],
   "source": [
    "# RMSE\n",
    "test_result = lr_model.evaluate(X_test)\n",
    "print(\"Root Mean Squared Error (RMSE) on test data = %g\" % test_result.rootMeanSquaredError)"
   ]
  }
 ],
 "metadata": {
  "kernelspec": {
   "display_name": "Python 3 (ipykernel)",
   "language": "python",
   "name": "python3"
  },
  "language_info": {
   "codemirror_mode": {
    "name": "ipython",
    "version": 3
   },
   "file_extension": ".py",
   "mimetype": "text/x-python",
   "name": "python",
   "nbconvert_exporter": "python",
   "pygments_lexer": "ipython3",
   "version": "3.9.15"
  }
 },
 "nbformat": 4,
 "nbformat_minor": 5
}
