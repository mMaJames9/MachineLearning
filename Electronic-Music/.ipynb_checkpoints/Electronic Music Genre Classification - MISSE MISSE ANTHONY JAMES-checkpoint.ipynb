{
 "cells": [
  {
   "cell_type": "markdown",
   "id": "035045f3",
   "metadata": {},
   "source": [
    "# ELECTRONIC MUSIC GENRE CLASSIFICATION"
   ]
  },
  {
   "cell_type": "markdown",
   "id": "32ddb393",
   "metadata": {},
   "source": [
    "### Create PySpark instance"
   ]
  },
  {
   "cell_type": "code",
   "execution_count": 1,
   "id": "34cbd5d6",
   "metadata": {},
   "outputs": [
    {
     "name": "stdout",
     "output_type": "stream",
     "text": [
      "You are working with 1 core(s)\n"
     ]
    },
    {
     "data": {
      "text/html": [
       "\n",
       "            <div>\n",
       "                <p><b>SparkSession - in-memory</b></p>\n",
       "                \n",
       "        <div>\n",
       "            <p><b>SparkContext</b></p>\n",
       "\n",
       "            <p><a href=\"http://DESKTOP-K5FG320:4041\">Spark UI</a></p>\n",
       "\n",
       "            <dl>\n",
       "              <dt>Version</dt>\n",
       "                <dd><code>v3.3.1</code></dd>\n",
       "              <dt>Master</dt>\n",
       "                <dd><code>local[*]</code></dd>\n",
       "              <dt>AppName</dt>\n",
       "                <dd><code>Multiclass Classification</code></dd>\n",
       "            </dl>\n",
       "        </div>\n",
       "        \n",
       "            </div>\n",
       "        "
      ],
      "text/plain": [
       "<pyspark.sql.session.SparkSession at 0x1afbf02cbb0>"
      ]
     },
     "execution_count": 1,
     "metadata": {},
     "output_type": "execute_result"
    }
   ],
   "source": [
    "import findspark\n",
    "findspark.init()\n",
    "\n",
    "import pyspark\n",
    "from pyspark.sql import SparkSession\n",
    "\n",
    "spark = SparkSession.builder.appName(\"Multiclass Classification\").getOrCreate()\n",
    "\n",
    "cores = spark._jsc.sc().getExecutorMemoryStatus().keySet().size()\n",
    "print(\"You are working with\", cores, \"core(s)\")\n",
    "spark"
   ]
  },
  {
   "cell_type": "markdown",
   "id": "ea3bf120",
   "metadata": {},
   "source": [
    "### Import the dataset and others librairies"
   ]
  },
  {
   "cell_type": "code",
   "execution_count": 2,
   "id": "582cc62b",
   "metadata": {},
   "outputs": [],
   "source": [
    "# Dataset\n",
    "df = spark.read.csv('beatsdataset.csv', inferSchema = True, header = True)\n",
    "\n",
    "# Librairies\n",
    "import pandas as pd\n",
    "\n",
    "from pyspark.ml.feature import *\n",
    "\n",
    "from pyspark.sql.types import * \n",
    "from pyspark.sql.functions import *\n",
    "\n",
    "from pyspark.ml.classification import *\n",
    "\n",
    "from pyspark.ml.stat import *\n",
    "\n",
    "from pyspark.ml.evaluation import *\n",
    "\n",
    "from pyspark.ml import Pipeline\n",
    "\n",
    "from pyspark.ml.tuning import *"
   ]
  },
  {
   "cell_type": "markdown",
   "id": "260bc42f",
   "metadata": {},
   "source": [
    "### Data Preparation"
   ]
  },
  {
   "cell_type": "code",
   "execution_count": 3,
   "id": "28003d27",
   "metadata": {},
   "outputs": [
    {
     "data": {
      "text/html": [
       "<div>\n",
       "<style scoped>\n",
       "    .dataframe tbody tr th:only-of-type {\n",
       "        vertical-align: middle;\n",
       "    }\n",
       "\n",
       "    .dataframe tbody tr th {\n",
       "        vertical-align: top;\n",
       "    }\n",
       "\n",
       "    .dataframe thead th {\n",
       "        text-align: right;\n",
       "    }\n",
       "</style>\n",
       "<table border=\"1\" class=\"dataframe\">\n",
       "  <thead>\n",
       "    <tr style=\"text-align: right;\">\n",
       "      <th></th>\n",
       "      <th>_c0</th>\n",
       "      <th>1-ZCRm</th>\n",
       "      <th>2-Energym</th>\n",
       "      <th>3-EnergyEntropym</th>\n",
       "      <th>4-SpectralCentroidm</th>\n",
       "      <th>5-SpectralSpreadm</th>\n",
       "      <th>6-SpectralEntropym</th>\n",
       "      <th>7-SpectralFluxm</th>\n",
       "      <th>8-SpectralRolloffm</th>\n",
       "      <th>9-MFCCs1m</th>\n",
       "      <th>...</th>\n",
       "      <th>63-ChromaVector8std</th>\n",
       "      <th>64-ChromaVector9std</th>\n",
       "      <th>65-ChromaVector10std</th>\n",
       "      <th>66-ChromaVector11std</th>\n",
       "      <th>67-ChromaVector12std</th>\n",
       "      <th>68-ChromaDeviationstd</th>\n",
       "      <th>69-BPM</th>\n",
       "      <th>70-BPMconf</th>\n",
       "      <th>71-BPMessentia</th>\n",
       "      <th>class</th>\n",
       "    </tr>\n",
       "  </thead>\n",
       "  <tbody>\n",
       "    <tr>\n",
       "      <th>0</th>\n",
       "      <td>0</td>\n",
       "      <td>0.136440</td>\n",
       "      <td>0.088861</td>\n",
       "      <td>3.201201</td>\n",
       "      <td>0.262825</td>\n",
       "      <td>0.249212</td>\n",
       "      <td>1.114423</td>\n",
       "      <td>0.007003</td>\n",
       "      <td>0.256682</td>\n",
       "      <td>-22.723259</td>\n",
       "      <td>...</td>\n",
       "      <td>0.003431</td>\n",
       "      <td>0.004981</td>\n",
       "      <td>0.010818</td>\n",
       "      <td>0.024001</td>\n",
       "      <td>0.005201</td>\n",
       "      <td>0.015056</td>\n",
       "      <td>133.333333</td>\n",
       "      <td>0.132792</td>\n",
       "      <td>128.0</td>\n",
       "      <td>BigRoom</td>\n",
       "    </tr>\n",
       "    <tr>\n",
       "      <th>1</th>\n",
       "      <td>1</td>\n",
       "      <td>0.117039</td>\n",
       "      <td>0.108389</td>\n",
       "      <td>3.194001</td>\n",
       "      <td>0.247657</td>\n",
       "      <td>0.250288</td>\n",
       "      <td>1.065668</td>\n",
       "      <td>0.005387</td>\n",
       "      <td>0.199821</td>\n",
       "      <td>-21.775871</td>\n",
       "      <td>...</td>\n",
       "      <td>0.004461</td>\n",
       "      <td>0.006441</td>\n",
       "      <td>0.007469</td>\n",
       "      <td>0.015499</td>\n",
       "      <td>0.005589</td>\n",
       "      <td>0.019339</td>\n",
       "      <td>120.000000</td>\n",
       "      <td>0.112767</td>\n",
       "      <td>126.0</td>\n",
       "      <td>BigRoom</td>\n",
       "    </tr>\n",
       "    <tr>\n",
       "      <th>2</th>\n",
       "      <td>2</td>\n",
       "      <td>0.085308</td>\n",
       "      <td>0.128525</td>\n",
       "      <td>3.123837</td>\n",
       "      <td>0.217205</td>\n",
       "      <td>0.228652</td>\n",
       "      <td>0.789647</td>\n",
       "      <td>0.008247</td>\n",
       "      <td>0.156822</td>\n",
       "      <td>-22.472722</td>\n",
       "      <td>...</td>\n",
       "      <td>0.001529</td>\n",
       "      <td>0.004556</td>\n",
       "      <td>0.007723</td>\n",
       "      <td>0.017482</td>\n",
       "      <td>0.002901</td>\n",
       "      <td>0.022201</td>\n",
       "      <td>133.333333</td>\n",
       "      <td>0.123373</td>\n",
       "      <td>129.0</td>\n",
       "      <td>BigRoom</td>\n",
       "    </tr>\n",
       "    <tr>\n",
       "      <th>3</th>\n",
       "      <td>3</td>\n",
       "      <td>0.103050</td>\n",
       "      <td>0.167042</td>\n",
       "      <td>3.150830</td>\n",
       "      <td>0.233593</td>\n",
       "      <td>0.245032</td>\n",
       "      <td>0.967082</td>\n",
       "      <td>0.006571</td>\n",
       "      <td>0.168083</td>\n",
       "      <td>-21.470751</td>\n",
       "      <td>...</td>\n",
       "      <td>0.001591</td>\n",
       "      <td>0.003514</td>\n",
       "      <td>0.009477</td>\n",
       "      <td>0.023162</td>\n",
       "      <td>0.004165</td>\n",
       "      <td>0.015379</td>\n",
       "      <td>133.333333</td>\n",
       "      <td>0.158876</td>\n",
       "      <td>129.0</td>\n",
       "      <td>BigRoom</td>\n",
       "    </tr>\n",
       "    <tr>\n",
       "      <th>4</th>\n",
       "      <td>4</td>\n",
       "      <td>0.151730</td>\n",
       "      <td>0.148405</td>\n",
       "      <td>3.194498</td>\n",
       "      <td>0.293730</td>\n",
       "      <td>0.267231</td>\n",
       "      <td>1.353005</td>\n",
       "      <td>0.003872</td>\n",
       "      <td>0.292055</td>\n",
       "      <td>-21.371157</td>\n",
       "      <td>...</td>\n",
       "      <td>0.003945</td>\n",
       "      <td>0.004131</td>\n",
       "      <td>0.011330</td>\n",
       "      <td>0.028188</td>\n",
       "      <td>0.002639</td>\n",
       "      <td>0.019079</td>\n",
       "      <td>133.333333</td>\n",
       "      <td>0.190708</td>\n",
       "      <td>129.0</td>\n",
       "      <td>BigRoom</td>\n",
       "    </tr>\n",
       "  </tbody>\n",
       "</table>\n",
       "<p>5 rows × 73 columns</p>\n",
       "</div>"
      ],
      "text/plain": [
       "   _c0    1-ZCRm  2-Energym  3-EnergyEntropym  4-SpectralCentroidm  \\\n",
       "0    0  0.136440   0.088861          3.201201             0.262825   \n",
       "1    1  0.117039   0.108389          3.194001             0.247657   \n",
       "2    2  0.085308   0.128525          3.123837             0.217205   \n",
       "3    3  0.103050   0.167042          3.150830             0.233593   \n",
       "4    4  0.151730   0.148405          3.194498             0.293730   \n",
       "\n",
       "   5-SpectralSpreadm  6-SpectralEntropym  7-SpectralFluxm  8-SpectralRolloffm  \\\n",
       "0           0.249212            1.114423         0.007003            0.256682   \n",
       "1           0.250288            1.065668         0.005387            0.199821   \n",
       "2           0.228652            0.789647         0.008247            0.156822   \n",
       "3           0.245032            0.967082         0.006571            0.168083   \n",
       "4           0.267231            1.353005         0.003872            0.292055   \n",
       "\n",
       "   9-MFCCs1m  ...  63-ChromaVector8std  64-ChromaVector9std  \\\n",
       "0 -22.723259  ...             0.003431             0.004981   \n",
       "1 -21.775871  ...             0.004461             0.006441   \n",
       "2 -22.472722  ...             0.001529             0.004556   \n",
       "3 -21.470751  ...             0.001591             0.003514   \n",
       "4 -21.371157  ...             0.003945             0.004131   \n",
       "\n",
       "   65-ChromaVector10std  66-ChromaVector11std  67-ChromaVector12std  \\\n",
       "0              0.010818              0.024001              0.005201   \n",
       "1              0.007469              0.015499              0.005589   \n",
       "2              0.007723              0.017482              0.002901   \n",
       "3              0.009477              0.023162              0.004165   \n",
       "4              0.011330              0.028188              0.002639   \n",
       "\n",
       "   68-ChromaDeviationstd      69-BPM  70-BPMconf  71-BPMessentia    class  \n",
       "0               0.015056  133.333333    0.132792           128.0  BigRoom  \n",
       "1               0.019339  120.000000    0.112767           126.0  BigRoom  \n",
       "2               0.022201  133.333333    0.123373           129.0  BigRoom  \n",
       "3               0.015379  133.333333    0.158876           129.0  BigRoom  \n",
       "4               0.019079  133.333333    0.190708           129.0  BigRoom  \n",
       "\n",
       "[5 rows x 73 columns]"
      ]
     },
     "execution_count": 3,
     "metadata": {},
     "output_type": "execute_result"
    }
   ],
   "source": [
    "pd.DataFrame(df.take(5), columns=df.columns)"
   ]
  },
  {
   "cell_type": "code",
   "execution_count": 4,
   "id": "f10d38cb",
   "metadata": {
    "scrolled": false
   },
   "outputs": [
    {
     "name": "stdout",
     "output_type": "stream",
     "text": [
      "root\n",
      " |-- _c0: integer (nullable = true)\n",
      " |-- 1-ZCRm: double (nullable = true)\n",
      " |-- 2-Energym: double (nullable = true)\n",
      " |-- 3-EnergyEntropym: double (nullable = true)\n",
      " |-- 4-SpectralCentroidm: double (nullable = true)\n",
      " |-- 5-SpectralSpreadm: double (nullable = true)\n",
      " |-- 6-SpectralEntropym: double (nullable = true)\n",
      " |-- 7-SpectralFluxm: double (nullable = true)\n",
      " |-- 8-SpectralRolloffm: double (nullable = true)\n",
      " |-- 9-MFCCs1m: double (nullable = true)\n",
      " |-- 10-MFCCs2m: double (nullable = true)\n",
      " |-- 11-MFCCs3m: double (nullable = true)\n",
      " |-- 12-MFCCs4m: double (nullable = true)\n",
      " |-- 13-MFCCs5m: double (nullable = true)\n",
      " |-- 14-MFCCs6m: double (nullable = true)\n",
      " |-- 15-MFCCs7m: double (nullable = true)\n",
      " |-- 16-MFCCs8m: double (nullable = true)\n",
      " |-- 17-MFCCs9m: double (nullable = true)\n",
      " |-- 18-MFCCs10m: double (nullable = true)\n",
      " |-- 19-MFCCs11m: double (nullable = true)\n",
      " |-- 20-MFCCs12m: double (nullable = true)\n",
      " |-- 21-MFCCs13m: double (nullable = true)\n",
      " |-- 22-ChromaVector1m: double (nullable = true)\n",
      " |-- 23-ChromaVector2m: double (nullable = true)\n",
      " |-- 24-ChromaVector3m: double (nullable = true)\n",
      " |-- 25-ChromaVector4m: double (nullable = true)\n",
      " |-- 26-ChromaVector5m: double (nullable = true)\n",
      " |-- 27-ChromaVector6m: double (nullable = true)\n",
      " |-- 28-ChromaVector7m: double (nullable = true)\n",
      " |-- 29-ChromaVector8m: double (nullable = true)\n",
      " |-- 30-ChromaVector9m: double (nullable = true)\n",
      " |-- 31-ChromaVector10m: double (nullable = true)\n",
      " |-- 32-ChromaVector11m: double (nullable = true)\n",
      " |-- 33-ChromaVector12m: double (nullable = true)\n",
      " |-- 34-ChromaDeviationm: double (nullable = true)\n",
      " |-- 35-ZCRstd: double (nullable = true)\n",
      " |-- 36-Energystd: double (nullable = true)\n",
      " |-- 37-EnergyEntropystd: double (nullable = true)\n",
      " |-- 38-SpectralCentroidstd: double (nullable = true)\n",
      " |-- 39-SpectralSpreadstd: double (nullable = true)\n",
      " |-- 40-SpectralEntropystd: double (nullable = true)\n",
      " |-- 41-SpectralFluxstd: double (nullable = true)\n",
      " |-- 42-SpectralRolloffstd: double (nullable = true)\n",
      " |-- 43-MFCCs1std: double (nullable = true)\n",
      " |-- 44-MFCCs2std: double (nullable = true)\n",
      " |-- 45-MFCCs3std: double (nullable = true)\n",
      " |-- 46-MFCCs4std: double (nullable = true)\n",
      " |-- 47-MFCCs5std: double (nullable = true)\n",
      " |-- 48-MFCCs6std: double (nullable = true)\n",
      " |-- 49-MFCCs7std: double (nullable = true)\n",
      " |-- 50-MFCCs8std: double (nullable = true)\n",
      " |-- 51-MFCCs9std: double (nullable = true)\n",
      " |-- 52-MFCCs10std: double (nullable = true)\n",
      " |-- 53-MFCCs11std: double (nullable = true)\n",
      " |-- 54-MFCCs12std: double (nullable = true)\n",
      " |-- 55-MFCCs13std: double (nullable = true)\n",
      " |-- 56-ChromaVector1std: double (nullable = true)\n",
      " |-- 57-ChromaVector2std: double (nullable = true)\n",
      " |-- 58-ChromaVector3std: double (nullable = true)\n",
      " |-- 59-ChromaVector4std: double (nullable = true)\n",
      " |-- 60-ChromaVector5std: double (nullable = true)\n",
      " |-- 61-ChromaVector6std: double (nullable = true)\n",
      " |-- 62-ChromaVector7std: double (nullable = true)\n",
      " |-- 63-ChromaVector8std: double (nullable = true)\n",
      " |-- 64-ChromaVector9std: double (nullable = true)\n",
      " |-- 65-ChromaVector10std: double (nullable = true)\n",
      " |-- 66-ChromaVector11std: double (nullable = true)\n",
      " |-- 67-ChromaVector12std: double (nullable = true)\n",
      " |-- 68-ChromaDeviationstd: double (nullable = true)\n",
      " |-- 69-BPM: double (nullable = true)\n",
      " |-- 70-BPMconf: double (nullable = true)\n",
      " |-- 71-BPMessentia: double (nullable = true)\n",
      " |-- class: string (nullable = true)\n",
      "\n"
     ]
    }
   ],
   "source": [
    "df.printSchema()"
   ]
  },
  {
   "cell_type": "code",
   "execution_count": 5,
   "id": "486604da",
   "metadata": {},
   "outputs": [
    {
     "data": {
      "text/plain": [
       "0"
      ]
     },
     "execution_count": 5,
     "metadata": {},
     "output_type": "execute_result"
    }
   ],
   "source": [
    "# Checking for missing values\n",
    "df.toPandas()['class'].isnull().sum()"
   ]
  },
  {
   "cell_type": "code",
   "execution_count": 6,
   "id": "18cf682e",
   "metadata": {},
   "outputs": [],
   "source": [
    "df = df.drop('_c0')\n",
    "cols = df.columns"
   ]
  },
  {
   "cell_type": "code",
   "execution_count": 7,
   "id": "dec642e7",
   "metadata": {
    "scrolled": false
   },
   "outputs": [
    {
     "name": "stdout",
     "output_type": "stream",
     "text": [
      "+--------------------+-----+\n",
      "|class               |count|\n",
      "+--------------------+-----+\n",
      "|PsyTrance           |100  |\n",
      "|HardDance           |100  |\n",
      "|Breaks              |100  |\n",
      "|HardcoreHardTechno  |100  |\n",
      "|IndieDanceNuDisco   |100  |\n",
      "|Trance              |100  |\n",
      "|DeepHouse           |100  |\n",
      "|ElectronicaDowntempo|100  |\n",
      "|ReggaeDub           |100  |\n",
      "|Minimal             |100  |\n",
      "|DrumAndBass         |100  |\n",
      "|Dubstep             |100  |\n",
      "|BigRoom             |100  |\n",
      "|Techno              |100  |\n",
      "|House               |100  |\n",
      "|FutureHouse         |100  |\n",
      "|ElectroHouse        |100  |\n",
      "|GlitchHop           |100  |\n",
      "|TechHouse           |100  |\n",
      "|HipHop              |100  |\n",
      "|FunkRAndB           |100  |\n",
      "|Dance               |100  |\n",
      "|ProgressiveHouse    |100  |\n",
      "+--------------------+-----+\n",
      "\n"
     ]
    }
   ],
   "source": [
    "### Check number of classes\n",
    "df.groupBy(\"class\").count().orderBy(col(\"count\").desc()).show(100, truncate = False)"
   ]
  },
  {
   "cell_type": "markdown",
   "id": "15d08a47",
   "metadata": {},
   "source": [
    "### Summary statistics for numeric variables"
   ]
  },
  {
   "cell_type": "code",
   "execution_count": 8,
   "id": "05f23a89",
   "metadata": {},
   "outputs": [
    {
     "data": {
      "text/html": [
       "<div>\n",
       "<style scoped>\n",
       "    .dataframe tbody tr th:only-of-type {\n",
       "        vertical-align: middle;\n",
       "    }\n",
       "\n",
       "    .dataframe tbody tr th {\n",
       "        vertical-align: top;\n",
       "    }\n",
       "\n",
       "    .dataframe thead th {\n",
       "        text-align: right;\n",
       "    }\n",
       "</style>\n",
       "<table border=\"1\" class=\"dataframe\">\n",
       "  <thead>\n",
       "    <tr style=\"text-align: right;\">\n",
       "      <th></th>\n",
       "      <th>summary</th>\n",
       "      <th>1-ZCRm</th>\n",
       "      <th>2-Energym</th>\n",
       "      <th>3-EnergyEntropym</th>\n",
       "      <th>4-SpectralCentroidm</th>\n",
       "      <th>5-SpectralSpreadm</th>\n",
       "      <th>6-SpectralEntropym</th>\n",
       "      <th>7-SpectralFluxm</th>\n",
       "      <th>8-SpectralRolloffm</th>\n",
       "      <th>9-MFCCs1m</th>\n",
       "      <th>...</th>\n",
       "      <th>62-ChromaVector7std</th>\n",
       "      <th>63-ChromaVector8std</th>\n",
       "      <th>64-ChromaVector9std</th>\n",
       "      <th>65-ChromaVector10std</th>\n",
       "      <th>66-ChromaVector11std</th>\n",
       "      <th>67-ChromaVector12std</th>\n",
       "      <th>68-ChromaDeviationstd</th>\n",
       "      <th>69-BPM</th>\n",
       "      <th>70-BPMconf</th>\n",
       "      <th>71-BPMessentia</th>\n",
       "    </tr>\n",
       "  </thead>\n",
       "  <tbody>\n",
       "    <tr>\n",
       "      <th>0</th>\n",
       "      <td>count</td>\n",
       "      <td>2300</td>\n",
       "      <td>2300</td>\n",
       "      <td>2300</td>\n",
       "      <td>2300</td>\n",
       "      <td>2300</td>\n",
       "      <td>2300</td>\n",
       "      <td>2300</td>\n",
       "      <td>2300</td>\n",
       "      <td>2300</td>\n",
       "      <td>...</td>\n",
       "      <td>2300</td>\n",
       "      <td>2300</td>\n",
       "      <td>2300</td>\n",
       "      <td>2300</td>\n",
       "      <td>2300</td>\n",
       "      <td>2300</td>\n",
       "      <td>2300</td>\n",
       "      <td>2300</td>\n",
       "      <td>2300</td>\n",
       "      <td>2300</td>\n",
       "    </tr>\n",
       "    <tr>\n",
       "      <th>1</th>\n",
       "      <td>mean</td>\n",
       "      <td>0.1077356797961763</td>\n",
       "      <td>0.10425174466333932</td>\n",
       "      <td>3.1105111566668033</td>\n",
       "      <td>0.23558305531339918</td>\n",
       "      <td>0.24140674726170033</td>\n",
       "      <td>0.9061372135071645</td>\n",
       "      <td>0.010704792449330288</td>\n",
       "      <td>0.19054511226120807</td>\n",
       "      <td>-23.166806366416047</td>\n",
       "      <td>...</td>\n",
       "      <td>0.06754027424805441</td>\n",
       "      <td>0.0026319920322406165</td>\n",
       "      <td>0.004918958736944532</td>\n",
       "      <td>0.009916764607447157</td>\n",
       "      <td>0.030616410803130347</td>\n",
       "      <td>0.00414105361917058</td>\n",
       "      <td>0.019852465215783984</td>\n",
       "      <td>148.22553723922272</td>\n",
       "      <td>0.16931029089732458</td>\n",
       "      <td>120.94869565217391</td>\n",
       "    </tr>\n",
       "    <tr>\n",
       "      <th>2</th>\n",
       "      <td>stddev</td>\n",
       "      <td>0.03710503899301139</td>\n",
       "      <td>0.04096553918825427</td>\n",
       "      <td>0.07092474046200739</td>\n",
       "      <td>0.04358527481190943</td>\n",
       "      <td>0.019559085955778</td>\n",
       "      <td>0.34151187307227904</td>\n",
       "      <td>0.005386503420646006</td>\n",
       "      <td>0.08016858004526244</td>\n",
       "      <td>1.1774170450040735</td>\n",
       "      <td>...</td>\n",
       "      <td>0.02045735433672742</td>\n",
       "      <td>0.0018063503004847065</td>\n",
       "      <td>0.002664114789557282</td>\n",
       "      <td>0.004558212450691252</td>\n",
       "      <td>0.011572037810381448</td>\n",
       "      <td>0.0024919863674215206</td>\n",
       "      <td>0.004402542966666207</td>\n",
       "      <td>46.6411599307751</td>\n",
       "      <td>0.05680615301680602</td>\n",
       "      <td>17.10192490974369</td>\n",
       "    </tr>\n",
       "    <tr>\n",
       "      <th>3</th>\n",
       "      <td>min</td>\n",
       "      <td>0.017122317477</td>\n",
       "      <td>0.00494799624461</td>\n",
       "      <td>2.74610482676</td>\n",
       "      <td>0.0826846383739</td>\n",
       "      <td>0.151737604308</td>\n",
       "      <td>0.0341590993706</td>\n",
       "      <td>0.0026894786818</td>\n",
       "      <td>0.0118423440634</td>\n",
       "      <td>-30.3789543716</td>\n",
       "      <td>...</td>\n",
       "      <td>0.017596577864</td>\n",
       "      <td>1.61595871092E-4</td>\n",
       "      <td>4.99560419907E-4</td>\n",
       "      <td>0.00216876494351</td>\n",
       "      <td>0.00417520159112</td>\n",
       "      <td>2.77091481056E-4</td>\n",
       "      <td>0.00553176321265</td>\n",
       "      <td>63.1578947368</td>\n",
       "      <td>0.0733369683751</td>\n",
       "      <td>61.0</td>\n",
       "    </tr>\n",
       "    <tr>\n",
       "      <th>4</th>\n",
       "      <td>max</td>\n",
       "      <td>0.246658826058</td>\n",
       "      <td>0.281533479209</td>\n",
       "      <td>3.25415266086</td>\n",
       "      <td>0.373731260787</td>\n",
       "      <td>0.300685364935</td>\n",
       "      <td>1.95884041443</td>\n",
       "      <td>0.0527354211261</td>\n",
       "      <td>0.483744905594</td>\n",
       "      <td>-20.1291999839</td>\n",
       "      <td>...</td>\n",
       "      <td>0.143269579101</td>\n",
       "      <td>0.0271224146296</td>\n",
       "      <td>0.027724271782</td>\n",
       "      <td>0.0478188970252</td>\n",
       "      <td>0.0961281431734</td>\n",
       "      <td>0.0287388910107</td>\n",
       "      <td>0.0407359233789</td>\n",
       "      <td>600.0</td>\n",
       "      <td>0.4229915668</td>\n",
       "      <td>188.0</td>\n",
       "    </tr>\n",
       "  </tbody>\n",
       "</table>\n",
       "<p>5 rows × 72 columns</p>\n",
       "</div>"
      ],
      "text/plain": [
       "  summary               1-ZCRm            2-Energym     3-EnergyEntropym  \\\n",
       "0   count                 2300                 2300                 2300   \n",
       "1    mean   0.1077356797961763  0.10425174466333932   3.1105111566668033   \n",
       "2  stddev  0.03710503899301139  0.04096553918825427  0.07092474046200739   \n",
       "3     min       0.017122317477     0.00494799624461        2.74610482676   \n",
       "4     max       0.246658826058       0.281533479209        3.25415266086   \n",
       "\n",
       "   4-SpectralCentroidm    5-SpectralSpreadm   6-SpectralEntropym  \\\n",
       "0                 2300                 2300                 2300   \n",
       "1  0.23558305531339918  0.24140674726170033   0.9061372135071645   \n",
       "2  0.04358527481190943    0.019559085955778  0.34151187307227904   \n",
       "3      0.0826846383739       0.151737604308      0.0341590993706   \n",
       "4       0.373731260787       0.300685364935        1.95884041443   \n",
       "\n",
       "        7-SpectralFluxm   8-SpectralRolloffm            9-MFCCs1m  ...  \\\n",
       "0                  2300                 2300                 2300  ...   \n",
       "1  0.010704792449330288  0.19054511226120807  -23.166806366416047  ...   \n",
       "2  0.005386503420646006  0.08016858004526244   1.1774170450040735  ...   \n",
       "3       0.0026894786818      0.0118423440634       -30.3789543716  ...   \n",
       "4       0.0527354211261       0.483744905594       -20.1291999839  ...   \n",
       "\n",
       "   62-ChromaVector7std    63-ChromaVector8std   64-ChromaVector9std  \\\n",
       "0                 2300                   2300                  2300   \n",
       "1  0.06754027424805441  0.0026319920322406165  0.004918958736944532   \n",
       "2  0.02045735433672742  0.0018063503004847065  0.002664114789557282   \n",
       "3       0.017596577864       1.61595871092E-4      4.99560419907E-4   \n",
       "4       0.143269579101        0.0271224146296        0.027724271782   \n",
       "\n",
       "   65-ChromaVector10std  66-ChromaVector11std   67-ChromaVector12std  \\\n",
       "0                  2300                  2300                   2300   \n",
       "1  0.009916764607447157  0.030616410803130347    0.00414105361917058   \n",
       "2  0.004558212450691252  0.011572037810381448  0.0024919863674215206   \n",
       "3      0.00216876494351      0.00417520159112       2.77091481056E-4   \n",
       "4       0.0478188970252       0.0961281431734        0.0287388910107   \n",
       "\n",
       "  68-ChromaDeviationstd              69-BPM           70-BPMconf  \\\n",
       "0                  2300                2300                 2300   \n",
       "1  0.019852465215783984  148.22553723922272  0.16931029089732458   \n",
       "2  0.004402542966666207    46.6411599307751  0.05680615301680602   \n",
       "3      0.00553176321265       63.1578947368      0.0733369683751   \n",
       "4       0.0407359233789               600.0         0.4229915668   \n",
       "\n",
       "       71-BPMessentia  \n",
       "0                2300  \n",
       "1  120.94869565217391  \n",
       "2   17.10192490974369  \n",
       "3                61.0  \n",
       "4               188.0  \n",
       "\n",
       "[5 rows x 72 columns]"
      ]
     },
     "execution_count": 8,
     "metadata": {},
     "output_type": "execute_result"
    }
   ],
   "source": [
    "numeric_features = [t[0] for t in df.dtypes if t[1] != 'string']\n",
    "df.select(numeric_features).describe().toPandas()"
   ]
  },
  {
   "cell_type": "markdown",
   "id": "cdd7a9ce",
   "metadata": {},
   "source": [
    "### Preparing Data for Machine Learning"
   ]
  },
  {
   "cell_type": "code",
   "execution_count": 9,
   "id": "244cfd2e",
   "metadata": {},
   "outputs": [],
   "source": [
    "categoricalColumns = []\n",
    "stages = []\n",
    "\n",
    "for categoricalCol in categoricalColumns:\n",
    "    stringIndexer = StringIndexer(inputCol = categoricalCol, outputCol = categoricalCol + 'Index')\n",
    "    encoder = OneHotEncoderEstimator(inputCols=[stringIndexer.getOutputCol()], outputCols=[categoricalCol + \"classVec\"])\n",
    "    stages += [stringIndexer, encoder]\n",
    "    \n",
    "label_stringIdx = StringIndexer(inputCol = 'class', outputCol = 'label')\n",
    "stages += [label_stringIdx]\n",
    "\n",
    "numericCols = numeric_features\n",
    "\n",
    "assemblerInputs = [c + \"classVec\" for c in categoricalColumns] + numericCols\n",
    "\n",
    "assembler = VectorAssembler(inputCols = assemblerInputs, outputCol = \"features\")\n",
    "stages += [assembler]"
   ]
  },
  {
   "cell_type": "markdown",
   "id": "ca5bb158",
   "metadata": {},
   "source": [
    "### Pipeline"
   ]
  },
  {
   "cell_type": "code",
   "execution_count": 10,
   "id": "3da80c79",
   "metadata": {
    "scrolled": false
   },
   "outputs": [
    {
     "name": "stdout",
     "output_type": "stream",
     "text": [
      "root\n",
      " |-- label: double (nullable = false)\n",
      " |-- features: vector (nullable = true)\n",
      " |-- 1-ZCRm: double (nullable = true)\n",
      " |-- 2-Energym: double (nullable = true)\n",
      " |-- 3-EnergyEntropym: double (nullable = true)\n",
      " |-- 4-SpectralCentroidm: double (nullable = true)\n",
      " |-- 5-SpectralSpreadm: double (nullable = true)\n",
      " |-- 6-SpectralEntropym: double (nullable = true)\n",
      " |-- 7-SpectralFluxm: double (nullable = true)\n",
      " |-- 8-SpectralRolloffm: double (nullable = true)\n",
      " |-- 9-MFCCs1m: double (nullable = true)\n",
      " |-- 10-MFCCs2m: double (nullable = true)\n",
      " |-- 11-MFCCs3m: double (nullable = true)\n",
      " |-- 12-MFCCs4m: double (nullable = true)\n",
      " |-- 13-MFCCs5m: double (nullable = true)\n",
      " |-- 14-MFCCs6m: double (nullable = true)\n",
      " |-- 15-MFCCs7m: double (nullable = true)\n",
      " |-- 16-MFCCs8m: double (nullable = true)\n",
      " |-- 17-MFCCs9m: double (nullable = true)\n",
      " |-- 18-MFCCs10m: double (nullable = true)\n",
      " |-- 19-MFCCs11m: double (nullable = true)\n",
      " |-- 20-MFCCs12m: double (nullable = true)\n",
      " |-- 21-MFCCs13m: double (nullable = true)\n",
      " |-- 22-ChromaVector1m: double (nullable = true)\n",
      " |-- 23-ChromaVector2m: double (nullable = true)\n",
      " |-- 24-ChromaVector3m: double (nullable = true)\n",
      " |-- 25-ChromaVector4m: double (nullable = true)\n",
      " |-- 26-ChromaVector5m: double (nullable = true)\n",
      " |-- 27-ChromaVector6m: double (nullable = true)\n",
      " |-- 28-ChromaVector7m: double (nullable = true)\n",
      " |-- 29-ChromaVector8m: double (nullable = true)\n",
      " |-- 30-ChromaVector9m: double (nullable = true)\n",
      " |-- 31-ChromaVector10m: double (nullable = true)\n",
      " |-- 32-ChromaVector11m: double (nullable = true)\n",
      " |-- 33-ChromaVector12m: double (nullable = true)\n",
      " |-- 34-ChromaDeviationm: double (nullable = true)\n",
      " |-- 35-ZCRstd: double (nullable = true)\n",
      " |-- 36-Energystd: double (nullable = true)\n",
      " |-- 37-EnergyEntropystd: double (nullable = true)\n",
      " |-- 38-SpectralCentroidstd: double (nullable = true)\n",
      " |-- 39-SpectralSpreadstd: double (nullable = true)\n",
      " |-- 40-SpectralEntropystd: double (nullable = true)\n",
      " |-- 41-SpectralFluxstd: double (nullable = true)\n",
      " |-- 42-SpectralRolloffstd: double (nullable = true)\n",
      " |-- 43-MFCCs1std: double (nullable = true)\n",
      " |-- 44-MFCCs2std: double (nullable = true)\n",
      " |-- 45-MFCCs3std: double (nullable = true)\n",
      " |-- 46-MFCCs4std: double (nullable = true)\n",
      " |-- 47-MFCCs5std: double (nullable = true)\n",
      " |-- 48-MFCCs6std: double (nullable = true)\n",
      " |-- 49-MFCCs7std: double (nullable = true)\n",
      " |-- 50-MFCCs8std: double (nullable = true)\n",
      " |-- 51-MFCCs9std: double (nullable = true)\n",
      " |-- 52-MFCCs10std: double (nullable = true)\n",
      " |-- 53-MFCCs11std: double (nullable = true)\n",
      " |-- 54-MFCCs12std: double (nullable = true)\n",
      " |-- 55-MFCCs13std: double (nullable = true)\n",
      " |-- 56-ChromaVector1std: double (nullable = true)\n",
      " |-- 57-ChromaVector2std: double (nullable = true)\n",
      " |-- 58-ChromaVector3std: double (nullable = true)\n",
      " |-- 59-ChromaVector4std: double (nullable = true)\n",
      " |-- 60-ChromaVector5std: double (nullable = true)\n",
      " |-- 61-ChromaVector6std: double (nullable = true)\n",
      " |-- 62-ChromaVector7std: double (nullable = true)\n",
      " |-- 63-ChromaVector8std: double (nullable = true)\n",
      " |-- 64-ChromaVector9std: double (nullable = true)\n",
      " |-- 65-ChromaVector10std: double (nullable = true)\n",
      " |-- 66-ChromaVector11std: double (nullable = true)\n",
      " |-- 67-ChromaVector12std: double (nullable = true)\n",
      " |-- 68-ChromaDeviationstd: double (nullable = true)\n",
      " |-- 69-BPM: double (nullable = true)\n",
      " |-- 70-BPMconf: double (nullable = true)\n",
      " |-- 71-BPMessentia: double (nullable = true)\n",
      " |-- class: string (nullable = true)\n",
      "\n"
     ]
    }
   ],
   "source": [
    "pipeline = Pipeline(stages = stages)\n",
    "\n",
    "pipelineModel = pipeline.fit(df)\n",
    "df = pipelineModel.transform(df)\n",
    "\n",
    "selectedCols = ['label', 'features'] + cols\n",
    "df = df.select(selectedCols)\n",
    "\n",
    "df.printSchema()"
   ]
  },
  {
   "cell_type": "code",
   "execution_count": 11,
   "id": "f979025d",
   "metadata": {},
   "outputs": [
    {
     "name": "stdout",
     "output_type": "stream",
     "text": [
      "+-----+--------------------+-------+\n",
      "|label|            features|  class|\n",
      "+-----+--------------------+-------+\n",
      "|  0.0|[0.136439587512,0...|BigRoom|\n",
      "|  0.0|[0.117038518483,0...|BigRoom|\n",
      "|  0.0|[0.0853077737447,...|BigRoom|\n",
      "|  0.0|[0.103049917216,0...|BigRoom|\n",
      "|  0.0|[0.151729948738,0...|BigRoom|\n",
      "|  0.0|[0.127046737192,0...|BigRoom|\n",
      "|  0.0|[0.123395302003,0...|BigRoom|\n",
      "|  0.0|[0.140027382431,0...|BigRoom|\n",
      "|  0.0|[0.117635200751,0...|BigRoom|\n",
      "|  0.0|[0.137400181488,0...|BigRoom|\n",
      "+-----+--------------------+-------+\n",
      "only showing top 10 rows\n",
      "\n"
     ]
    }
   ],
   "source": [
    "fin_output = df.select(\"label\", \"features\", \"class\")\n",
    "fin_output.show(10)"
   ]
  },
  {
   "cell_type": "markdown",
   "id": "0f1fe0f2",
   "metadata": {},
   "source": [
    "### Randomly split data into train and test sets"
   ]
  },
  {
   "cell_type": "code",
   "execution_count": 12,
   "id": "4af0459e",
   "metadata": {},
   "outputs": [
    {
     "name": "stdout",
     "output_type": "stream",
     "text": [
      "Training Dataset Count: 1608\n",
      "Test Dataset Count: 692\n"
     ]
    }
   ],
   "source": [
    "train, test = df.randomSplit([0.7, 0.3], seed = 20)\n",
    "\n",
    "print(\"Training Dataset Count: \" + str(train.count()))\n",
    "print(\"Test Dataset Count: \" + str(test.count()))"
   ]
  },
  {
   "cell_type": "markdown",
   "id": "425060d9",
   "metadata": {},
   "source": [
    "### Logistic Regression"
   ]
  },
  {
   "cell_type": "code",
   "execution_count": 13,
   "id": "716cc8da",
   "metadata": {},
   "outputs": [],
   "source": [
    "lr = LogisticRegression(featuresCol = 'features', labelCol = 'label', maxIter = 10, )\n",
    "lrModel = lr.fit(train)"
   ]
  },
  {
   "cell_type": "markdown",
   "id": "8306468e",
   "metadata": {},
   "source": [
    "#### Make predictions on the test set"
   ]
  },
  {
   "cell_type": "code",
   "execution_count": 14,
   "id": "e0d353e6",
   "metadata": {},
   "outputs": [
    {
     "name": "stdout",
     "output_type": "stream",
     "text": [
      "+-----+--------------------+----------+\n",
      "|label|            features|prediction|\n",
      "+-----+--------------------+----------+\n",
      "|  0.0|[0.0786813648231,...|       9.0|\n",
      "|  0.0|[0.0992425653517,...|       6.0|\n",
      "|  0.0|[0.103385431592,0...|       0.0|\n",
      "|  0.0|[0.103571258,0.16...|       5.0|\n",
      "|  0.0|[0.113504612825,0...|       9.0|\n",
      "|  0.0|[0.113933557806,0...|      22.0|\n",
      "|  0.0|[0.11784864839,0....|       6.0|\n",
      "|  0.0|[0.122947412201,0...|       6.0|\n",
      "|  0.0|[0.123181356863,0...|       6.0|\n",
      "|  0.0|[0.123851231413,0...|       6.0|\n",
      "+-----+--------------------+----------+\n",
      "only showing top 10 rows\n",
      "\n"
     ]
    }
   ],
   "source": [
    "predictions = lrModel.transform(test)\n",
    "predictions.select('label', 'features', 'prediction').show(10)"
   ]
  },
  {
   "cell_type": "markdown",
   "id": "6703fb90",
   "metadata": {},
   "source": [
    "#### Evaluate our Logistic Regression model"
   ]
  },
  {
   "cell_type": "code",
   "execution_count": 15,
   "id": "12a340ff",
   "metadata": {},
   "outputs": [
    {
     "name": "stdout",
     "output_type": "stream",
     "text": [
      "Accuracy of Logistic Regression: 0.452312\n",
      "Test Error of Logistic Regression: 0.547688 \n"
     ]
    }
   ],
   "source": [
    "evaluator = MulticlassClassificationEvaluator(labelCol = 'label', predictionCol = 'prediction', metricName = 'accuracy')\n",
    "\n",
    "accuracy = evaluator.evaluate(predictions)\n",
    "print(\"Accuracy of Logistic Regression: %g\"%(accuracy))\n",
    "print(\"Test Error of Logistic Regression: %g \"%(1.0 - accuracy))"
   ]
  },
  {
   "cell_type": "markdown",
   "id": "9351b33e",
   "metadata": {},
   "source": [
    "### Decison Tree Classifier"
   ]
  },
  {
   "cell_type": "code",
   "execution_count": 16,
   "id": "719e283d",
   "metadata": {},
   "outputs": [],
   "source": [
    "dt = DecisionTreeClassifier(featuresCol = 'features', labelCol = 'label', maxDepth = 3)\n",
    "dtModel = dt.fit(train)"
   ]
  },
  {
   "cell_type": "markdown",
   "id": "310f12ae",
   "metadata": {},
   "source": [
    "#### Make predictions on the test set"
   ]
  },
  {
   "cell_type": "code",
   "execution_count": 17,
   "id": "c54d0712",
   "metadata": {},
   "outputs": [
    {
     "name": "stdout",
     "output_type": "stream",
     "text": [
      "+-----+--------------------+----------+\n",
      "|label|            features|prediction|\n",
      "+-----+--------------------+----------+\n",
      "|  0.0|[0.0786813648231,...|      14.0|\n",
      "|  0.0|[0.0992425653517,...|       0.0|\n",
      "|  0.0|[0.103385431592,0...|       0.0|\n",
      "|  0.0|[0.103571258,0.16...|       0.0|\n",
      "|  0.0|[0.113504612825,0...|       0.0|\n",
      "|  0.0|[0.113933557806,0...|       0.0|\n",
      "|  0.0|[0.11784864839,0....|       0.0|\n",
      "|  0.0|[0.122947412201,0...|       0.0|\n",
      "|  0.0|[0.123181356863,0...|      22.0|\n",
      "|  0.0|[0.123851231413,0...|       0.0|\n",
      "+-----+--------------------+----------+\n",
      "only showing top 10 rows\n",
      "\n"
     ]
    }
   ],
   "source": [
    "predictions = dtModel.transform(test)\n",
    "predictions.select('label', 'features', 'prediction').show(10)"
   ]
  },
  {
   "cell_type": "markdown",
   "id": "63ac499f",
   "metadata": {},
   "source": [
    "#### Evaluate our Decison Tree Classifier"
   ]
  },
  {
   "cell_type": "code",
   "execution_count": 18,
   "id": "1719f63b",
   "metadata": {},
   "outputs": [
    {
     "name": "stdout",
     "output_type": "stream",
     "text": [
      "Accuracy of Decision Tree: 0.223988\n",
      "Test Error of Decision Tree: 0.776012 \n"
     ]
    }
   ],
   "source": [
    "accuracy = evaluator.evaluate(predictions)\n",
    "print(\"Accuracy of Decision Tree: %g\"%(accuracy))\n",
    "print(\"Test Error of Decision Tree: %g \"%(1.0 - accuracy))"
   ]
  },
  {
   "cell_type": "markdown",
   "id": "c603949a",
   "metadata": {},
   "source": [
    "### Random Forest Model"
   ]
  },
  {
   "cell_type": "code",
   "execution_count": 19,
   "id": "ed5b5cd9",
   "metadata": {},
   "outputs": [],
   "source": [
    "rf = RandomForestClassifier(featuresCol = 'features', labelCol = 'label', numTrees = 50, maxDepth = 10)\n",
    "rfModel = rf.fit(train)"
   ]
  },
  {
   "cell_type": "markdown",
   "id": "a764318b",
   "metadata": {},
   "source": [
    "#### Make predictions on the test set"
   ]
  },
  {
   "cell_type": "code",
   "execution_count": 20,
   "id": "b0540e59",
   "metadata": {},
   "outputs": [
    {
     "name": "stdout",
     "output_type": "stream",
     "text": [
      "+-----+--------------------+----------+\n",
      "|label|            features|prediction|\n",
      "+-----+--------------------+----------+\n",
      "|  0.0|[0.0786813648231,...|      17.0|\n",
      "|  0.0|[0.0992425653517,...|      21.0|\n",
      "|  0.0|[0.103385431592,0...|       0.0|\n",
      "|  0.0|[0.103571258,0.16...|       6.0|\n",
      "|  0.0|[0.113504612825,0...|       0.0|\n",
      "|  0.0|[0.113933557806,0...|      22.0|\n",
      "|  0.0|[0.11784864839,0....|       0.0|\n",
      "|  0.0|[0.122947412201,0...|       0.0|\n",
      "|  0.0|[0.123181356863,0...|       0.0|\n",
      "|  0.0|[0.123851231413,0...|       6.0|\n",
      "+-----+--------------------+----------+\n",
      "only showing top 10 rows\n",
      "\n"
     ]
    }
   ],
   "source": [
    "predictions = rfModel.transform(test)\n",
    "predictions.select('label', 'features', 'prediction').show(10)"
   ]
  },
  {
   "cell_type": "markdown",
   "id": "9ddf84d2",
   "metadata": {},
   "source": [
    "#### Evaluate our Random Forest Model"
   ]
  },
  {
   "cell_type": "code",
   "execution_count": 21,
   "id": "52020c87",
   "metadata": {},
   "outputs": [
    {
     "name": "stdout",
     "output_type": "stream",
     "text": [
      "Accuracy of Random Forest: 0.498555\n",
      "Test Error of Random Forest: 0.501445 \n"
     ]
    }
   ],
   "source": [
    "accuracy = evaluator.evaluate(predictions)\n",
    "print(\"Accuracy of Random Forest: %g\"%(accuracy))\n",
    "print(\"Test Error of Random Forest: %g \"%(1.0 - accuracy))"
   ]
  },
  {
   "cell_type": "markdown",
   "id": "90421cb1",
   "metadata": {},
   "source": [
    "### One-vs-Rest"
   ]
  },
  {
   "cell_type": "code",
   "execution_count": 22,
   "id": "45d6c654",
   "metadata": {
    "scrolled": false
   },
   "outputs": [],
   "source": [
    "ovr = OneVsRest(featuresCol = 'features', labelCol = 'label', classifier = lr)\n",
    "ovrModel = ovr.fit(train)"
   ]
  },
  {
   "cell_type": "markdown",
   "id": "dc8169a7",
   "metadata": {},
   "source": [
    "#### Make predictions on the test set"
   ]
  },
  {
   "cell_type": "code",
   "execution_count": 23,
   "id": "d93f7821",
   "metadata": {},
   "outputs": [
    {
     "name": "stdout",
     "output_type": "stream",
     "text": [
      "+-----+--------------------+----------+-------+\n",
      "|label|            features|prediction|  class|\n",
      "+-----+--------------------+----------+-------+\n",
      "|  0.0|[0.0786813648231,...|       9.0|BigRoom|\n",
      "|  0.0|[0.0992425653517,...|       6.0|BigRoom|\n",
      "|  0.0|[0.103385431592,0...|      12.0|BigRoom|\n",
      "|  0.0|[0.103571258,0.16...|       6.0|BigRoom|\n",
      "|  0.0|[0.113504612825,0...|       9.0|BigRoom|\n",
      "|  0.0|[0.113933557806,0...|       0.0|BigRoom|\n",
      "|  0.0|[0.11784864839,0....|       6.0|BigRoom|\n",
      "|  0.0|[0.122947412201,0...|       0.0|BigRoom|\n",
      "|  0.0|[0.123181356863,0...|       6.0|BigRoom|\n",
      "|  0.0|[0.123851231413,0...|      14.0|BigRoom|\n",
      "+-----+--------------------+----------+-------+\n",
      "only showing top 10 rows\n",
      "\n"
     ]
    }
   ],
   "source": [
    "predictions = ovrModel.transform(test)\n",
    "predictions.select('label', 'features', 'prediction', 'class').show(10)"
   ]
  },
  {
   "cell_type": "markdown",
   "id": "2e41e2ff",
   "metadata": {},
   "source": [
    "#### Evaluate our OvR Model"
   ]
  },
  {
   "cell_type": "code",
   "execution_count": 24,
   "id": "aef4c736",
   "metadata": {},
   "outputs": [
    {
     "name": "stdout",
     "output_type": "stream",
     "text": [
      "Accuracy of OnevsRest: 0.445087\n",
      "Test Error of OnevsRest: 0.554913 \n"
     ]
    }
   ],
   "source": [
    "accuracy = evaluator.evaluate(predictions)\n",
    "print(\"Accuracy of OnevsRest: %g\"%(accuracy))\n",
    "print(\"Test Error of OnevsRest: %g \"%(1.0 - accuracy))"
   ]
  },
  {
   "cell_type": "markdown",
   "id": "0262740f",
   "metadata": {},
   "source": [
    "### Cross Validation"
   ]
  },
  {
   "cell_type": "code",
   "execution_count": 25,
   "id": "e40f7e88",
   "metadata": {
    "scrolled": false
   },
   "outputs": [
    {
     "name": "stdout",
     "output_type": "stream",
     "text": [
      "Accuracy of Cross Validation: 0.49711\n",
      "Test Error of Cross Validation: 0.50289 \n"
     ]
    }
   ],
   "source": [
    "classifier = RandomForestClassifier()\n",
    "\n",
    "paramGrid = (ParamGridBuilder()\n",
    "             .addGrid(classifier.maxDepth, [2, 5, 10, 20, 30])\n",
    "             .addGrid(classifier.maxBins, [10, 20, 40, 50])\n",
    "             .addGrid(classifier.numTrees, [10, 25, 50])\n",
    "             .build())\n",
    "\n",
    "# Cross Val score set up with all parameters\n",
    "cv = CrossValidator(estimator = classifier, estimatorParamMaps = paramGrid, evaluator = evaluator, numFolds = 3)\n",
    "\n",
    "# Then fit the model\n",
    "cvModel = cv.fit(train)\n",
    "\n",
    "# Collect the best Model\n",
    "BestModel = cvModel.bestModel\n",
    "\n",
    "# Generate predictions\n",
    "predictions = BestModel.transform(test)\n",
    "\n",
    "# Evaluate the model\n",
    "accuracy = evaluator.evaluate(predictions)\n",
    "print(\"Accuracy of Cross Validation: %g\"%(accuracy))\n",
    "print(\"Test Error of Cross Validation: %g \"%(1.0 - accuracy))"
   ]
  },
  {
   "cell_type": "code",
   "execution_count": 26,
   "id": "cbb93d64",
   "metadata": {},
   "outputs": [
    {
     "name": "stdout",
     "output_type": "stream",
     "text": [
      "+-----+--------------------+----------+\n",
      "|label|            features|prediction|\n",
      "+-----+--------------------+----------+\n",
      "|  0.0|[0.0786813648231,...|       2.0|\n",
      "|  0.0|[0.0992425653517,...|       0.0|\n",
      "|  0.0|[0.103385431592,0...|       0.0|\n",
      "|  0.0|[0.103571258,0.16...|       6.0|\n",
      "|  0.0|[0.113504612825,0...|       0.0|\n",
      "|  0.0|[0.113933557806,0...|       0.0|\n",
      "|  0.0|[0.11784864839,0....|       0.0|\n",
      "|  0.0|[0.122947412201,0...|       0.0|\n",
      "|  0.0|[0.123181356863,0...|       0.0|\n",
      "|  0.0|[0.123851231413,0...|       9.0|\n",
      "+-----+--------------------+----------+\n",
      "only showing top 10 rows\n",
      "\n"
     ]
    }
   ],
   "source": [
    "predictions.select('label', 'features', 'prediction').show(10)"
   ]
  }
 ],
 "metadata": {
  "kernelspec": {
   "display_name": "Python 3 (ipykernel)",
   "language": "python",
   "name": "python3"
  },
  "language_info": {
   "codemirror_mode": {
    "name": "ipython",
    "version": 3
   },
   "file_extension": ".py",
   "mimetype": "text/x-python",
   "name": "python",
   "nbconvert_exporter": "python",
   "pygments_lexer": "ipython3",
   "version": "3.9.15"
  }
 },
 "nbformat": 4,
 "nbformat_minor": 5
}
